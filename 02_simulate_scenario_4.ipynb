{
 "cells": [
  {
   "cell_type": "code",
   "execution_count": 1,
   "id": "694dfd52",
   "metadata": {},
   "outputs": [
    {
     "name": "stdout",
     "output_type": "stream",
     "text": [
      "Mon May 16 14:34:05 PDT 2022\r\n"
     ]
    }
   ],
   "source": [
    "import numpy as np, matplotlib.pyplot as plt, pandas as pd\n",
    "pd.set_option('display.max_rows', 8)\n",
    "!date\n",
    "\n",
    "%load_ext autoreload\n",
    "%autoreload 2"
   ]
  },
  {
   "cell_type": "markdown",
   "id": "4c5c937e",
   "metadata": {},
   "source": [
    "# Scenario 4: Swapping DAS for 2010 data, TDA DAS for 2020 data"
   ]
  },
  {
   "cell_type": "code",
   "execution_count": 2,
   "id": "5852ec8a",
   "metadata": {},
   "outputs": [],
   "source": [
    "np.random.seed(12345)"
   ]
  },
  {
   "cell_type": "markdown",
   "id": "fc70badb",
   "metadata": {},
   "source": [
    "# Load synthetic data for TX and use it to simulate 2010 and 2020 populations, and also get k_anon_2020 value from existing demo product\n",
    "\n"
   ]
  },
  {
   "cell_type": "code",
   "execution_count": 3,
   "id": "feaa2385",
   "metadata": {},
   "outputs": [],
   "source": [
    "import linked_census_disclosure.data as lcd_data"
   ]
  },
  {
   "cell_type": "code",
   "execution_count": 4,
   "id": "8073b908",
   "metadata": {},
   "outputs": [
    {
     "name": "stdout",
     "output_type": "stream",
     "text": [
      "CPU times: user 12.3 s, sys: 2.13 s, total: 14.5 s\n",
      "Wall time: 19.4 s\n"
     ]
    }
   ],
   "source": [
    "%%time\n",
    "\n",
    "sf1 = lcd_data.read_sf1_remf('tx')\n",
    "dhc = lcd_data.read_dhc_remf('tx')"
   ]
  },
  {
   "cell_type": "code",
   "execution_count": 5,
   "id": "27c5b115",
   "metadata": {},
   "outputs": [
    {
     "data": {
      "text/html": [
       "<div>\n",
       "<style scoped>\n",
       "    .dataframe tbody tr th:only-of-type {\n",
       "        vertical-align: middle;\n",
       "    }\n",
       "\n",
       "    .dataframe tbody tr th {\n",
       "        vertical-align: top;\n",
       "    }\n",
       "\n",
       "    .dataframe thead th {\n",
       "        text-align: right;\n",
       "    }\n",
       "</style>\n",
       "<table border=\"1\" class=\"dataframe\">\n",
       "  <thead>\n",
       "    <tr style=\"text-align: right;\">\n",
       "      <th></th>\n",
       "      <th>state</th>\n",
       "      <th>county</th>\n",
       "      <th>tract</th>\n",
       "      <th>block</th>\n",
       "      <th>row_num</th>\n",
       "      <th>age</th>\n",
       "      <th>sex</th>\n",
       "      <th>race</th>\n",
       "      <th>eth</th>\n",
       "      <th>n</th>\n",
       "    </tr>\n",
       "  </thead>\n",
       "  <tbody>\n",
       "    <tr>\n",
       "      <th>0</th>\n",
       "      <td>48.0</td>\n",
       "      <td>201.0</td>\n",
       "      <td>431802.0</td>\n",
       "      <td>2009.0</td>\n",
       "      <td>0</td>\n",
       "      <td>0.0</td>\n",
       "      <td>0.0</td>\n",
       "      <td>0.0</td>\n",
       "      <td>0.0</td>\n",
       "      <td>8.0</td>\n",
       "    </tr>\n",
       "    <tr>\n",
       "      <th>1</th>\n",
       "      <td>48.0</td>\n",
       "      <td>201.0</td>\n",
       "      <td>431802.0</td>\n",
       "      <td>2009.0</td>\n",
       "      <td>1</td>\n",
       "      <td>0.0</td>\n",
       "      <td>0.0</td>\n",
       "      <td>0.0</td>\n",
       "      <td>1.0</td>\n",
       "      <td>3.0</td>\n",
       "    </tr>\n",
       "    <tr>\n",
       "      <th>2</th>\n",
       "      <td>48.0</td>\n",
       "      <td>201.0</td>\n",
       "      <td>431802.0</td>\n",
       "      <td>2009.0</td>\n",
       "      <td>2</td>\n",
       "      <td>0.0</td>\n",
       "      <td>0.0</td>\n",
       "      <td>6.0</td>\n",
       "      <td>0.0</td>\n",
       "      <td>2.0</td>\n",
       "    </tr>\n",
       "    <tr>\n",
       "      <th>3</th>\n",
       "      <td>48.0</td>\n",
       "      <td>201.0</td>\n",
       "      <td>431802.0</td>\n",
       "      <td>2009.0</td>\n",
       "      <td>3</td>\n",
       "      <td>0.0</td>\n",
       "      <td>1.0</td>\n",
       "      <td>0.0</td>\n",
       "      <td>0.0</td>\n",
       "      <td>12.0</td>\n",
       "    </tr>\n",
       "    <tr>\n",
       "      <th>...</th>\n",
       "      <td>...</td>\n",
       "      <td>...</td>\n",
       "      <td>...</td>\n",
       "      <td>...</td>\n",
       "      <td>...</td>\n",
       "      <td>...</td>\n",
       "      <td>...</td>\n",
       "      <td>...</td>\n",
       "      <td>...</td>\n",
       "      <td>...</td>\n",
       "    </tr>\n",
       "    <tr>\n",
       "      <th>5941</th>\n",
       "      <td>48.0</td>\n",
       "      <td>451.0</td>\n",
       "      <td>1600.0</td>\n",
       "      <td>4313.0</td>\n",
       "      <td>0</td>\n",
       "      <td>18.0</td>\n",
       "      <td>1.0</td>\n",
       "      <td>0.0</td>\n",
       "      <td>0.0</td>\n",
       "      <td>2.0</td>\n",
       "    </tr>\n",
       "    <tr>\n",
       "      <th>5942</th>\n",
       "      <td>48.0</td>\n",
       "      <td>337.0</td>\n",
       "      <td>950200.0</td>\n",
       "      <td>1051.0</td>\n",
       "      <td>0</td>\n",
       "      <td>18.0</td>\n",
       "      <td>0.0</td>\n",
       "      <td>0.0</td>\n",
       "      <td>0.0</td>\n",
       "      <td>2.0</td>\n",
       "    </tr>\n",
       "    <tr>\n",
       "      <th>5943</th>\n",
       "      <td>48.0</td>\n",
       "      <td>333.0</td>\n",
       "      <td>950100.0</td>\n",
       "      <td>2208.0</td>\n",
       "      <td>0</td>\n",
       "      <td>18.0</td>\n",
       "      <td>0.0</td>\n",
       "      <td>0.0</td>\n",
       "      <td>0.0</td>\n",
       "      <td>1.0</td>\n",
       "    </tr>\n",
       "    <tr>\n",
       "      <th>5944</th>\n",
       "      <td>48.0</td>\n",
       "      <td>279.0</td>\n",
       "      <td>950600.0</td>\n",
       "      <td>1182.0</td>\n",
       "      <td>0</td>\n",
       "      <td>18.0</td>\n",
       "      <td>0.0</td>\n",
       "      <td>0.0</td>\n",
       "      <td>0.0</td>\n",
       "      <td>1.0</td>\n",
       "    </tr>\n",
       "  </tbody>\n",
       "</table>\n",
       "<p>6005936 rows × 10 columns</p>\n",
       "</div>"
      ],
      "text/plain": [
       "      state  county     tract   block  row_num   age  sex  race  eth     n\n",
       "0      48.0   201.0  431802.0  2009.0        0   0.0  0.0   0.0  0.0   8.0\n",
       "1      48.0   201.0  431802.0  2009.0        1   0.0  0.0   0.0  1.0   3.0\n",
       "2      48.0   201.0  431802.0  2009.0        2   0.0  0.0   6.0  0.0   2.0\n",
       "3      48.0   201.0  431802.0  2009.0        3   0.0  1.0   0.0  0.0  12.0\n",
       "...     ...     ...       ...     ...      ...   ...  ...   ...  ...   ...\n",
       "5941   48.0   451.0    1600.0  4313.0        0  18.0  1.0   0.0  0.0   2.0\n",
       "5942   48.0   337.0  950200.0  1051.0        0  18.0  0.0   0.0  0.0   2.0\n",
       "5943   48.0   333.0  950100.0  2208.0        0  18.0  0.0   0.0  0.0   1.0\n",
       "5944   48.0   279.0  950600.0  1182.0        0  18.0  0.0   0.0  0.0   1.0\n",
       "\n",
       "[6005936 rows x 10 columns]"
      ]
     },
     "execution_count": 5,
     "metadata": {},
     "output_type": "execute_result"
    }
   ],
   "source": [
    "sf1"
   ]
  },
  {
   "cell_type": "code",
   "execution_count": 6,
   "id": "2279236c",
   "metadata": {},
   "outputs": [
    {
     "data": {
      "text/plain": [
       "'25,145,561'"
      ]
     },
     "execution_count": 6,
     "metadata": {},
     "output_type": "execute_result"
    }
   ],
   "source": [
    "# does this have the expected number of people? yes, now it does\n",
    "f'{sf1.n.sum():,.0f}' # expect population of texas in 2010 to be 25,145,561"
   ]
  },
  {
   "cell_type": "markdown",
   "id": "45c7f8b9",
   "metadata": {},
   "source": [
    "# Focus in on the 0-7 year olds\n",
    "\n",
    "But in a complicated way, because we want to use TDA as our simulated 2020 link"
   ]
  },
  {
   "cell_type": "code",
   "execution_count": 7,
   "id": "a3c05670",
   "metadata": {},
   "outputs": [
    {
     "data": {
      "text/html": [
       "<div>\n",
       "<style scoped>\n",
       "    .dataframe tbody tr th:only-of-type {\n",
       "        vertical-align: middle;\n",
       "    }\n",
       "\n",
       "    .dataframe tbody tr th {\n",
       "        vertical-align: top;\n",
       "    }\n",
       "\n",
       "    .dataframe thead th {\n",
       "        text-align: right;\n",
       "    }\n",
       "</style>\n",
       "<table border=\"1\" class=\"dataframe\">\n",
       "  <thead>\n",
       "    <tr style=\"text-align: right;\">\n",
       "      <th></th>\n",
       "      <th>state</th>\n",
       "      <th>county</th>\n",
       "      <th>tract</th>\n",
       "      <th>block</th>\n",
       "      <th>row_num</th>\n",
       "      <th>age</th>\n",
       "      <th>sex</th>\n",
       "      <th>race</th>\n",
       "      <th>eth</th>\n",
       "      <th>n</th>\n",
       "    </tr>\n",
       "  </thead>\n",
       "  <tbody>\n",
       "    <tr>\n",
       "      <th>42</th>\n",
       "      <td>48.0</td>\n",
       "      <td>201.0</td>\n",
       "      <td>431802.0</td>\n",
       "      <td>2009.0</td>\n",
       "      <td>42</td>\n",
       "      <td>10.0</td>\n",
       "      <td>0.0</td>\n",
       "      <td>0.0</td>\n",
       "      <td>1.0</td>\n",
       "      <td>1.0</td>\n",
       "    </tr>\n",
       "    <tr>\n",
       "      <th>43</th>\n",
       "      <td>48.0</td>\n",
       "      <td>201.0</td>\n",
       "      <td>431802.0</td>\n",
       "      <td>2009.0</td>\n",
       "      <td>43</td>\n",
       "      <td>10.0</td>\n",
       "      <td>0.0</td>\n",
       "      <td>1.0</td>\n",
       "      <td>0.0</td>\n",
       "      <td>2.0</td>\n",
       "    </tr>\n",
       "    <tr>\n",
       "      <th>44</th>\n",
       "      <td>48.0</td>\n",
       "      <td>201.0</td>\n",
       "      <td>431802.0</td>\n",
       "      <td>2009.0</td>\n",
       "      <td>44</td>\n",
       "      <td>10.0</td>\n",
       "      <td>1.0</td>\n",
       "      <td>0.0</td>\n",
       "      <td>0.0</td>\n",
       "      <td>3.0</td>\n",
       "    </tr>\n",
       "    <tr>\n",
       "      <th>45</th>\n",
       "      <td>48.0</td>\n",
       "      <td>201.0</td>\n",
       "      <td>431802.0</td>\n",
       "      <td>2009.0</td>\n",
       "      <td>45</td>\n",
       "      <td>10.0</td>\n",
       "      <td>1.0</td>\n",
       "      <td>0.0</td>\n",
       "      <td>1.0</td>\n",
       "      <td>4.0</td>\n",
       "    </tr>\n",
       "    <tr>\n",
       "      <th>...</th>\n",
       "      <td>...</td>\n",
       "      <td>...</td>\n",
       "      <td>...</td>\n",
       "      <td>...</td>\n",
       "      <td>...</td>\n",
       "      <td>...</td>\n",
       "      <td>...</td>\n",
       "      <td>...</td>\n",
       "      <td>...</td>\n",
       "      <td>...</td>\n",
       "    </tr>\n",
       "    <tr>\n",
       "      <th>5925</th>\n",
       "      <td>48.0</td>\n",
       "      <td>111.0</td>\n",
       "      <td>950100.0</td>\n",
       "      <td>1136.0</td>\n",
       "      <td>3</td>\n",
       "      <td>14.0</td>\n",
       "      <td>0.0</td>\n",
       "      <td>17.0</td>\n",
       "      <td>1.0</td>\n",
       "      <td>1.0</td>\n",
       "    </tr>\n",
       "    <tr>\n",
       "      <th>5934</th>\n",
       "      <td>48.0</td>\n",
       "      <td>387.0</td>\n",
       "      <td>950100.0</td>\n",
       "      <td>2057.0</td>\n",
       "      <td>0</td>\n",
       "      <td>17.0</td>\n",
       "      <td>0.0</td>\n",
       "      <td>1.0</td>\n",
       "      <td>1.0</td>\n",
       "      <td>1.0</td>\n",
       "    </tr>\n",
       "    <tr>\n",
       "      <th>5936</th>\n",
       "      <td>48.0</td>\n",
       "      <td>171.0</td>\n",
       "      <td>950500.0</td>\n",
       "      <td>1125.0</td>\n",
       "      <td>0</td>\n",
       "      <td>10.0</td>\n",
       "      <td>0.0</td>\n",
       "      <td>0.0</td>\n",
       "      <td>1.0</td>\n",
       "      <td>1.0</td>\n",
       "    </tr>\n",
       "    <tr>\n",
       "      <th>5937</th>\n",
       "      <td>48.0</td>\n",
       "      <td>171.0</td>\n",
       "      <td>950500.0</td>\n",
       "      <td>1125.0</td>\n",
       "      <td>1</td>\n",
       "      <td>17.0</td>\n",
       "      <td>1.0</td>\n",
       "      <td>0.0</td>\n",
       "      <td>1.0</td>\n",
       "      <td>1.0</td>\n",
       "    </tr>\n",
       "  </tbody>\n",
       "</table>\n",
       "<p>2058208 rows × 10 columns</p>\n",
       "</div>"
      ],
      "text/plain": [
       "      state  county     tract   block  row_num   age  sex  race  eth    n\n",
       "42     48.0   201.0  431802.0  2009.0       42  10.0  0.0   0.0  1.0  1.0\n",
       "43     48.0   201.0  431802.0  2009.0       43  10.0  0.0   1.0  0.0  2.0\n",
       "44     48.0   201.0  431802.0  2009.0       44  10.0  1.0   0.0  0.0  3.0\n",
       "45     48.0   201.0  431802.0  2009.0       45  10.0  1.0   0.0  1.0  4.0\n",
       "...     ...     ...       ...     ...      ...   ...  ...   ...  ...  ...\n",
       "5925   48.0   111.0  950100.0  1136.0        3  14.0  0.0  17.0  1.0  1.0\n",
       "5934   48.0   387.0  950100.0  2057.0        0  17.0  0.0   1.0  1.0  1.0\n",
       "5936   48.0   171.0  950500.0  1125.0        0  10.0  0.0   0.0  1.0  1.0\n",
       "5937   48.0   171.0  950500.0  1125.0        1  17.0  1.0   0.0  1.0  1.0\n",
       "\n",
       "[2058208 rows x 10 columns]"
      ]
     },
     "execution_count": 7,
     "metadata": {},
     "output_type": "execute_result"
    }
   ],
   "source": [
    "sf1[(sf1.age >= 10) & (sf1.age < 18)]"
   ]
  },
  {
   "cell_type": "markdown",
   "id": "68622c31",
   "metadata": {},
   "source": [
    "## expand this portion of the SF1 into microdata\n",
    "\n",
    "For example, turn the first row of the table above into 9 rows for non-Hispanic White males who are age 8 in 2020."
   ]
  },
  {
   "cell_type": "code",
   "execution_count": 8,
   "id": "136f6897",
   "metadata": {},
   "outputs": [],
   "source": [
    "# it takes a while to do this, around 20 minutes"
   ]
  },
  {
   "cell_type": "code",
   "execution_count": 9,
   "id": "3e638409",
   "metadata": {},
   "outputs": [
    {
     "name": "stdout",
     "output_type": "stream",
     "text": [
      "CPU times: user 14min 37s, sys: 10.7 s, total: 14min 48s\n",
      "Wall time: 14min 47s\n"
     ]
    }
   ],
   "source": [
    "%%time\n",
    "\n",
    "def my_expand(df):\n",
    "    assert len(df) == 1\n",
    "    return pd.Series(1, index=range(df.iloc[0].n.astype(int)), name='pweight')\n",
    "\n",
    "df = sf1[(sf1.age >= 10) & (sf1.age < 18)].groupby(\n",
    "    ['state', 'county', 'tract', 'block', 'age', 'sex', 'race', 'eth']).apply(my_expand).reset_index()"
   ]
  },
  {
   "cell_type": "code",
   "execution_count": 10,
   "id": "8140ff76",
   "metadata": {},
   "outputs": [],
   "source": [
    "df_all = df.copy()"
   ]
  },
  {
   "cell_type": "code",
   "execution_count": 11,
   "id": "64b8b1e2",
   "metadata": {},
   "outputs": [
    {
     "data": {
      "text/plain": [
       "'3,009,117'"
      ]
     },
     "execution_count": 11,
     "metadata": {},
     "output_type": "execute_result"
    }
   ],
   "source": [
    "n_kids = len(df)  # number of children\n",
    "f'{n_kids:,.0f}'"
   ]
  },
  {
   "cell_type": "code",
   "execution_count": 12,
   "id": "517dba76",
   "metadata": {},
   "outputs": [],
   "source": [
    "#### simulate 10 years of demographic change\n",
    "\n",
    "df['age_2020'] = df.age\n",
    "df['age_2010'] = df.age - 10\n",
    "del df['age']"
   ]
  },
  {
   "cell_type": "code",
   "execution_count": 13,
   "id": "63018976",
   "metadata": {},
   "outputs": [],
   "source": [
    "assert np.all(df.age_2010 >= 0), 'ensure that all ages are still non-negative'"
   ]
  },
  {
   "cell_type": "code",
   "execution_count": 14,
   "id": "e4b235e4",
   "metadata": {},
   "outputs": [],
   "source": [
    "# ignore births, because we are focused\n",
    "# only on kids who can be linked between 2010 and 2020 census"
   ]
  },
  {
   "cell_type": "markdown",
   "id": "82d4291b",
   "metadata": {},
   "source": [
    "# Add in migration, but this time, make the change to the 2010 geography\n",
    "\n",
    "p_stay from ACS, see [2022_04_19a_das_dhc_attack_mig_data.ipynb](2022_04_19a_das_dhc_attack_mig_data.ipynb)"
   ]
  },
  {
   "cell_type": "code",
   "execution_count": 15,
   "id": "dc7050e4",
   "metadata": {},
   "outputs": [],
   "source": [
    "# simple model migration, based on probability\n",
    "# of being in same house for 10+ years among household with 8-17 year olds\n",
    "# in ACS\n",
    "\n",
    "p_stay = 0.23\n"
   ]
  },
  {
   "cell_type": "code",
   "execution_count": 16,
   "id": "bfbe765d",
   "metadata": {},
   "outputs": [],
   "source": [
    "def add_geoid(df):\n",
    "    \"\"\"form geoid from 'state', 'county', 'tract', 'block'\n",
    "    \"\"\"\n",
    "\n",
    "    df['geoid'] = (df.state.astype(str) + df.county.astype(str).str.zfill(3)\n",
    "                   + df.tract.astype(str).str.zfill(6) + df.block.astype(str).str.zfill(4))\n",
    "    \n",
    "add_geoid(sf1)\n",
    "add_geoid(dhc)\n",
    "add_geoid(df)"
   ]
  },
  {
   "cell_type": "code",
   "execution_count": 17,
   "id": "072d9451",
   "metadata": {},
   "outputs": [],
   "source": [
    "all_locations = sf1.geoid\n",
    "p_all_locations = sf1.n / sf1.n.sum()"
   ]
  },
  {
   "cell_type": "code",
   "execution_count": 18,
   "id": "ba2cdc3a",
   "metadata": {},
   "outputs": [],
   "source": [
    "locations_2020 = df.geoid.unique()"
   ]
  },
  {
   "cell_type": "code",
   "execution_count": 19,
   "id": "39c6a32e",
   "metadata": {},
   "outputs": [],
   "source": [
    "random_location = np.random.choice(all_locations, size=len(locations_2020),\n",
    "                                   p=p_all_locations, replace=True)\n",
    "\n",
    "locations_2010 = np.where(np.random.uniform(size=len(locations_2020)) < p_stay,\n",
    "                         locations_2020,\n",
    "                         random_location)\n",
    "\n",
    "s_location_2010 = pd.Series(locations_2010,\n",
    "                            index=locations_2020)"
   ]
  },
  {
   "cell_type": "code",
   "execution_count": 20,
   "id": "06777971",
   "metadata": {},
   "outputs": [
    {
     "data": {
      "text/plain": [
       "0.2301284846457563"
      ]
     },
     "execution_count": 20,
     "metadata": {},
     "output_type": "execute_result"
    }
   ],
   "source": [
    "np.mean(locations_2010 == locations_2020)  # should be around 0.23"
   ]
  },
  {
   "cell_type": "code",
   "execution_count": 21,
   "id": "da986b37",
   "metadata": {},
   "outputs": [
    {
     "data": {
      "text/html": [
       "<div>\n",
       "<style scoped>\n",
       "    .dataframe tbody tr th:only-of-type {\n",
       "        vertical-align: middle;\n",
       "    }\n",
       "\n",
       "    .dataframe tbody tr th {\n",
       "        vertical-align: top;\n",
       "    }\n",
       "\n",
       "    .dataframe thead th {\n",
       "        text-align: right;\n",
       "    }\n",
       "</style>\n",
       "<table border=\"1\" class=\"dataframe\">\n",
       "  <thead>\n",
       "    <tr style=\"text-align: right;\">\n",
       "      <th></th>\n",
       "      <th>state</th>\n",
       "      <th>county</th>\n",
       "      <th>tract</th>\n",
       "      <th>block</th>\n",
       "      <th>sex</th>\n",
       "      <th>race</th>\n",
       "      <th>eth</th>\n",
       "      <th>level_8</th>\n",
       "      <th>pweight</th>\n",
       "      <th>age_2020</th>\n",
       "      <th>age_2010</th>\n",
       "      <th>geoid_2020</th>\n",
       "      <th>geoid_2010</th>\n",
       "    </tr>\n",
       "  </thead>\n",
       "  <tbody>\n",
       "    <tr>\n",
       "      <th>0</th>\n",
       "      <td>48.0</td>\n",
       "      <td>1.0</td>\n",
       "      <td>950100.0</td>\n",
       "      <td>1000.0</td>\n",
       "      <td>0.0</td>\n",
       "      <td>5.0</td>\n",
       "      <td>1.0</td>\n",
       "      <td>0</td>\n",
       "      <td>1</td>\n",
       "      <td>10.0</td>\n",
       "      <td>0.0</td>\n",
       "      <td>48.01.0950100.01000.0</td>\n",
       "      <td>48.01.0950100.01000.0</td>\n",
       "    </tr>\n",
       "    <tr>\n",
       "      <th>1</th>\n",
       "      <td>48.0</td>\n",
       "      <td>1.0</td>\n",
       "      <td>950100.0</td>\n",
       "      <td>1000.0</td>\n",
       "      <td>1.0</td>\n",
       "      <td>5.0</td>\n",
       "      <td>1.0</td>\n",
       "      <td>0</td>\n",
       "      <td>1</td>\n",
       "      <td>11.0</td>\n",
       "      <td>1.0</td>\n",
       "      <td>48.01.0950100.01000.0</td>\n",
       "      <td>48.01.0950100.01000.0</td>\n",
       "    </tr>\n",
       "    <tr>\n",
       "      <th>2</th>\n",
       "      <td>48.0</td>\n",
       "      <td>1.0</td>\n",
       "      <td>950100.0</td>\n",
       "      <td>1000.0</td>\n",
       "      <td>0.0</td>\n",
       "      <td>5.0</td>\n",
       "      <td>1.0</td>\n",
       "      <td>0</td>\n",
       "      <td>1</td>\n",
       "      <td>13.0</td>\n",
       "      <td>3.0</td>\n",
       "      <td>48.01.0950100.01000.0</td>\n",
       "      <td>48.01.0950100.01000.0</td>\n",
       "    </tr>\n",
       "    <tr>\n",
       "      <th>3</th>\n",
       "      <td>48.0</td>\n",
       "      <td>1.0</td>\n",
       "      <td>950100.0</td>\n",
       "      <td>1000.0</td>\n",
       "      <td>0.0</td>\n",
       "      <td>1.0</td>\n",
       "      <td>0.0</td>\n",
       "      <td>0</td>\n",
       "      <td>1</td>\n",
       "      <td>15.0</td>\n",
       "      <td>5.0</td>\n",
       "      <td>48.01.0950100.01000.0</td>\n",
       "      <td>48.01.0950100.01000.0</td>\n",
       "    </tr>\n",
       "    <tr>\n",
       "      <th>...</th>\n",
       "      <td>...</td>\n",
       "      <td>...</td>\n",
       "      <td>...</td>\n",
       "      <td>...</td>\n",
       "      <td>...</td>\n",
       "      <td>...</td>\n",
       "      <td>...</td>\n",
       "      <td>...</td>\n",
       "      <td>...</td>\n",
       "      <td>...</td>\n",
       "      <td>...</td>\n",
       "      <td>...</td>\n",
       "      <td>...</td>\n",
       "    </tr>\n",
       "    <tr>\n",
       "      <th>3009113</th>\n",
       "      <td>48.0</td>\n",
       "      <td>507.0</td>\n",
       "      <td>950302.0</td>\n",
       "      <td>5025.0</td>\n",
       "      <td>0.0</td>\n",
       "      <td>0.0</td>\n",
       "      <td>1.0</td>\n",
       "      <td>0</td>\n",
       "      <td>1</td>\n",
       "      <td>13.0</td>\n",
       "      <td>3.0</td>\n",
       "      <td>48.0507.0950302.05025.0</td>\n",
       "      <td>48.0507.0950302.05025.0</td>\n",
       "    </tr>\n",
       "    <tr>\n",
       "      <th>3009114</th>\n",
       "      <td>48.0</td>\n",
       "      <td>507.0</td>\n",
       "      <td>950302.0</td>\n",
       "      <td>5025.0</td>\n",
       "      <td>1.0</td>\n",
       "      <td>0.0</td>\n",
       "      <td>1.0</td>\n",
       "      <td>0</td>\n",
       "      <td>1</td>\n",
       "      <td>17.0</td>\n",
       "      <td>7.0</td>\n",
       "      <td>48.0507.0950302.05025.0</td>\n",
       "      <td>48.0507.0950302.05025.0</td>\n",
       "    </tr>\n",
       "    <tr>\n",
       "      <th>3009115</th>\n",
       "      <td>48.0</td>\n",
       "      <td>507.0</td>\n",
       "      <td>950302.0</td>\n",
       "      <td>5026.0</td>\n",
       "      <td>0.0</td>\n",
       "      <td>0.0</td>\n",
       "      <td>1.0</td>\n",
       "      <td>0</td>\n",
       "      <td>1</td>\n",
       "      <td>15.0</td>\n",
       "      <td>5.0</td>\n",
       "      <td>48.0507.0950302.05026.0</td>\n",
       "      <td>48.0507.0950302.05026.0</td>\n",
       "    </tr>\n",
       "    <tr>\n",
       "      <th>3009116</th>\n",
       "      <td>48.0</td>\n",
       "      <td>507.0</td>\n",
       "      <td>950302.0</td>\n",
       "      <td>5026.0</td>\n",
       "      <td>0.0</td>\n",
       "      <td>0.0</td>\n",
       "      <td>1.0</td>\n",
       "      <td>0</td>\n",
       "      <td>1</td>\n",
       "      <td>17.0</td>\n",
       "      <td>7.0</td>\n",
       "      <td>48.0507.0950302.05026.0</td>\n",
       "      <td>48.0507.0950302.05026.0</td>\n",
       "    </tr>\n",
       "  </tbody>\n",
       "</table>\n",
       "<p>3009117 rows × 13 columns</p>\n",
       "</div>"
      ],
      "text/plain": [
       "         state  county     tract   block  sex  race  eth  level_8  pweight  \\\n",
       "0         48.0     1.0  950100.0  1000.0  0.0   5.0  1.0        0        1   \n",
       "1         48.0     1.0  950100.0  1000.0  1.0   5.0  1.0        0        1   \n",
       "2         48.0     1.0  950100.0  1000.0  0.0   5.0  1.0        0        1   \n",
       "3         48.0     1.0  950100.0  1000.0  0.0   1.0  0.0        0        1   \n",
       "...        ...     ...       ...     ...  ...   ...  ...      ...      ...   \n",
       "3009113   48.0   507.0  950302.0  5025.0  0.0   0.0  1.0        0        1   \n",
       "3009114   48.0   507.0  950302.0  5025.0  1.0   0.0  1.0        0        1   \n",
       "3009115   48.0   507.0  950302.0  5026.0  0.0   0.0  1.0        0        1   \n",
       "3009116   48.0   507.0  950302.0  5026.0  0.0   0.0  1.0        0        1   \n",
       "\n",
       "         age_2020  age_2010               geoid_2020               geoid_2010  \n",
       "0            10.0       0.0    48.01.0950100.01000.0    48.01.0950100.01000.0  \n",
       "1            11.0       1.0    48.01.0950100.01000.0    48.01.0950100.01000.0  \n",
       "2            13.0       3.0    48.01.0950100.01000.0    48.01.0950100.01000.0  \n",
       "3            15.0       5.0    48.01.0950100.01000.0    48.01.0950100.01000.0  \n",
       "...           ...       ...                      ...                      ...  \n",
       "3009113      13.0       3.0  48.0507.0950302.05025.0  48.0507.0950302.05025.0  \n",
       "3009114      17.0       7.0  48.0507.0950302.05025.0  48.0507.0950302.05025.0  \n",
       "3009115      15.0       5.0  48.0507.0950302.05026.0  48.0507.0950302.05026.0  \n",
       "3009116      17.0       7.0  48.0507.0950302.05026.0  48.0507.0950302.05026.0  \n",
       "\n",
       "[3009117 rows x 13 columns]"
      ]
     },
     "execution_count": 21,
     "metadata": {},
     "output_type": "execute_result"
    }
   ],
   "source": [
    "df['geoid_2020'] = df.geoid\n",
    "df['geoid_2010'] = df.geoid.map(s_location_2010)\n",
    "del df['geoid']\n",
    "\n",
    "df"
   ]
  },
  {
   "cell_type": "code",
   "execution_count": 22,
   "id": "5f0ec06d",
   "metadata": {},
   "outputs": [
    {
     "data": {
      "text/plain": [
       "0.22958362868575732"
      ]
     },
     "execution_count": 22,
     "metadata": {},
     "output_type": "execute_result"
    }
   ],
   "source": [
    "np.mean(df.geoid_2010 == df.geoid_2020)  # should be around 23%"
   ]
  },
  {
   "cell_type": "markdown",
   "id": "d0faa0b7",
   "metadata": {},
   "source": [
    "# Make gender column, based on BRFSS 2019 SOGI results\n",
    "\n",
    "In future work, could try to incorporate observation that there is substantial age dependence in these values.  But for now, keep it simple, and work with the crude prevalence rates.  It is already not-that-simple.\n",
    "\n",
    "Since we want to use the demonstration DHC without re-running it, we first take the reported_sex_2020 column from the `sex` column in the SF1 ReMF (note: this conflates swapping and TDA)"
   ]
  },
  {
   "cell_type": "code",
   "execution_count": 23,
   "id": "e84d4367",
   "metadata": {},
   "outputs": [],
   "source": [
    "df['reported_sex_2020'] = df.sex"
   ]
  },
  {
   "cell_type": "code",
   "execution_count": 24,
   "id": "c0c5f3de",
   "metadata": {},
   "outputs": [
    {
     "data": {
      "text/plain": [
       "array([0.00182556, 0.00223124, 0.00121704, 0.99472617])"
      ]
     },
     "execution_count": 24,
     "metadata": {},
     "output_type": "execute_result"
    }
   ],
   "source": [
    "# then initalize a gender for each simulant, calibrated to have unconditional probability from BRFSS\n",
    "# and also to match the data generation procedure for the reported_sex_2020 column\n",
    "\n",
    "p_trans_boy = 0.18 / 100\n",
    "p_trans_girl = 0.22 / 100\n",
    "p_trans_other = 0.12 / 100\n",
    "p_cis = 98.08 / 100\n",
    "\n",
    "# rescale to sum to 100%\n",
    "p_gender = np.array([p_trans_boy, p_trans_girl, p_trans_other, p_cis])\n",
    "p_gender /= p_gender.sum()\n",
    "p_gender"
   ]
  },
  {
   "cell_type": "code",
   "execution_count": 25,
   "id": "6425a054",
   "metadata": {},
   "outputs": [],
   "source": [
    "# first initialize gender without distinguishing cis boy and cis girl\n",
    "# since that matches BRFSS SOGI question\n",
    "df['gender'] = np.random.choice(['trans_boy', 'trans_girl', 'trans_other', 'cis'], p=p_gender, size=len(df))"
   ]
  },
  {
   "cell_type": "code",
   "execution_count": 26,
   "id": "3376a0f9",
   "metadata": {},
   "outputs": [],
   "source": [
    "# now distinguish cis based on reconstructed sex_id\n",
    "df.gender = np.where(df.gender == 'cis',\n",
    "                     df.sex.map({0:'cis_boy', 1:'cis_girl'}),\n",
    "                     df.gender)"
   ]
  },
  {
   "cell_type": "code",
   "execution_count": 27,
   "id": "506ff253",
   "metadata": {},
   "outputs": [],
   "source": [
    "df['trans'] = df.gender.isin(['trans_boy', 'trans_girl', 'trans_other'])"
   ]
  },
  {
   "cell_type": "code",
   "execution_count": 28,
   "id": "edd2635f",
   "metadata": {},
   "outputs": [
    {
     "data": {
      "text/plain": [
       "cis_boy        50.99\n",
       "cis_girl       48.49\n",
       "trans_girl      0.22\n",
       "trans_boy       0.18\n",
       "trans_other     0.12\n",
       "Name: gender, dtype: float64"
      ]
     },
     "execution_count": 28,
     "metadata": {},
     "output_type": "execute_result"
    }
   ],
   "source": [
    "np.round(100 * df.gender.value_counts(normalize=True), 2)"
   ]
  },
  {
   "cell_type": "code",
   "execution_count": 29,
   "id": "4c164e06",
   "metadata": {},
   "outputs": [
    {
     "data": {
      "text/plain": [
       "0.52"
      ]
     },
     "execution_count": 29,
     "metadata": {},
     "output_type": "execute_result"
    }
   ],
   "source": [
    "np.round(100 * df.gender.value_counts(normalize=True).filter(like='trans').sum(), 2)"
   ]
  },
  {
   "cell_type": "code",
   "execution_count": 30,
   "id": "b30b0540",
   "metadata": {},
   "outputs": [
    {
     "data": {
      "text/plain": [
       "0.52"
      ]
     },
     "execution_count": 30,
     "metadata": {},
     "output_type": "execute_result"
    }
   ],
   "source": [
    "np.round(100 * df.trans.mean(), 2)"
   ]
  },
  {
   "cell_type": "code",
   "execution_count": 31,
   "id": "4c04fdc6",
   "metadata": {},
   "outputs": [
    {
     "data": {
      "text/html": [
       "<div>\n",
       "<style scoped>\n",
       "    .dataframe tbody tr th:only-of-type {\n",
       "        vertical-align: middle;\n",
       "    }\n",
       "\n",
       "    .dataframe tbody tr th {\n",
       "        vertical-align: top;\n",
       "    }\n",
       "\n",
       "    .dataframe thead th {\n",
       "        text-align: right;\n",
       "    }\n",
       "</style>\n",
       "<table border=\"1\" class=\"dataframe\">\n",
       "  <thead>\n",
       "    <tr style=\"text-align: right;\">\n",
       "      <th>reported_sex_2020</th>\n",
       "      <th>0.0</th>\n",
       "      <th>1.0</th>\n",
       "    </tr>\n",
       "    <tr>\n",
       "      <th>gender</th>\n",
       "      <th></th>\n",
       "      <th></th>\n",
       "    </tr>\n",
       "  </thead>\n",
       "  <tbody>\n",
       "    <tr>\n",
       "      <th>trans_boy</th>\n",
       "      <td>0.508961</td>\n",
       "      <td>0.491039</td>\n",
       "    </tr>\n",
       "    <tr>\n",
       "      <th>trans_girl</th>\n",
       "      <td>0.505057</td>\n",
       "      <td>0.494943</td>\n",
       "    </tr>\n",
       "    <tr>\n",
       "      <th>trans_other</th>\n",
       "      <td>0.510454</td>\n",
       "      <td>0.489546</td>\n",
       "    </tr>\n",
       "  </tbody>\n",
       "</table>\n",
       "</div>"
      ],
      "text/plain": [
       "reported_sex_2020       0.0       1.0\n",
       "gender                               \n",
       "trans_boy          0.508961  0.491039\n",
       "trans_girl         0.505057  0.494943\n",
       "trans_other        0.510454  0.489546"
      ]
     },
     "execution_count": 31,
     "metadata": {},
     "output_type": "execute_result"
    }
   ],
   "source": [
    "df[df.trans].groupby('gender').reported_sex_2020.value_counts(normalize=True).unstack()"
   ]
  },
  {
   "cell_type": "code",
   "execution_count": 32,
   "id": "c5eeb453",
   "metadata": {},
   "outputs": [],
   "source": [
    "def gender_to_sex_2010(gender, reported_sex_2020):\n",
    "    # start with values reported in 2020\n",
    "    sex = reported_sex_2020.copy()\n",
    "    \n",
    "    # update the trans_boy and trans_girl entries to be gender assigned at birth\n",
    "    sex = np.where((gender == 'trans_boy'),\n",
    "                   0,\n",
    "                   sex\n",
    "                  )\n",
    "    sex = np.where((gender == 'trans_girl'),\n",
    "                   1,\n",
    "                   sex\n",
    "                  )\n",
    "    return sex\n",
    "\n",
    "\n",
    "df['reported_sex_2010'] = gender_to_sex_2010(df.gender, df.reported_sex_2020)"
   ]
  },
  {
   "cell_type": "code",
   "execution_count": 33,
   "id": "aedcd5f9",
   "metadata": {},
   "outputs": [
    {
     "data": {
      "text/plain": [
       "0.005188232960034456"
      ]
     },
     "execution_count": 33,
     "metadata": {},
     "output_type": "execute_result"
    }
   ],
   "source": [
    "df['trans'].mean()"
   ]
  },
  {
   "cell_type": "code",
   "execution_count": 34,
   "id": "56f264ab",
   "metadata": {},
   "outputs": [
    {
     "data": {
      "text/plain": [
       "0.001993608091676063"
      ]
     },
     "execution_count": 34,
     "metadata": {},
     "output_type": "execute_result"
    }
   ],
   "source": [
    "np.mean(df.reported_sex_2010 != df.reported_sex_2020)"
   ]
  },
  {
   "cell_type": "markdown",
   "id": "e8370bc7",
   "metadata": {},
   "source": [
    "# Values for results section"
   ]
  },
  {
   "cell_type": "code",
   "execution_count": 35,
   "id": "6c13cbcb",
   "metadata": {},
   "outputs": [
    {
     "data": {
      "text/plain": [
       "'3,009,117'"
      ]
     },
     "execution_count": 35,
     "metadata": {},
     "output_type": "execute_result"
    }
   ],
   "source": [
    "# Our synthetic population matched the age, sex, race/ethnicity, and geography of Texas\n",
    "# on census day April 1, 2010, with\n",
    "# X children ages 0-7 in Y household on census day 2010\n",
    "\n",
    "n_kids = len(df)  # number of children\n",
    "f'{n_kids:,.0f}'"
   ]
  },
  {
   "cell_type": "code",
   "execution_count": 36,
   "id": "cf6e6846",
   "metadata": {},
   "outputs": [
    {
     "data": {
      "text/plain": [
       "'690,844'"
      ]
     },
     "execution_count": 36,
     "metadata": {},
     "output_type": "execute_result"
    }
   ],
   "source": [
    "# number of kids that were in same census block in 2010 and 2020 census\n",
    "n_stayed = (df.geoid_2010 == df.geoid_2020).sum()\n",
    "f'{n_stayed:,.0f}'"
   ]
  },
  {
   "cell_type": "code",
   "execution_count": 37,
   "id": "5ca1ed86",
   "metadata": {},
   "outputs": [
    {
     "data": {
      "text/plain": [
       "'3,601'"
      ]
     },
     "execution_count": 37,
     "metadata": {},
     "output_type": "execute_result"
    }
   ],
   "source": [
    "# number of trans kids that were in same place in 2010 and 2020 census\n",
    "\n",
    "n_trans_stayed = (df.trans & (df.geoid_2010 == df.geoid_2020)).sum()\n",
    "f'{n_trans_stayed:,.0f}'"
   ]
  },
  {
   "cell_type": "code",
   "execution_count": 38,
   "id": "5efb6e20",
   "metadata": {},
   "outputs": [
    {
     "data": {
      "text/plain": [
       "'5,999'"
      ]
     },
     "execution_count": 38,
     "metadata": {},
     "output_type": "execute_result"
    }
   ],
   "source": [
    "# number of trans kids identified if full census data with names and dob was released\n",
    "\n",
    "n_trans = df[(df.reported_sex_2010 != df.reported_sex_2020)].pweight.sum()\n",
    "f'{n_trans:,.0f}'"
   ]
  },
  {
   "cell_type": "markdown",
   "id": "d4af7528",
   "metadata": {},
   "source": [
    "# number of trans families identified by age, geoid from reconstruction based on TDA-protected DHC\n"
   ]
  },
  {
   "cell_type": "code",
   "execution_count": 39,
   "id": "2cfb7327",
   "metadata": {},
   "outputs": [
    {
     "data": {
      "text/plain": [
       "geoid_2010               age_2020  race  eth\n",
       "48.01.0950100.01000.0    10.0      5.0   1.0      1\n",
       "48.0309.01900.01027.0    17.0      5.0   1.0      1\n",
       "48.0309.01900.02006.0    10.0      0.0   0.0      1\n",
       "                                   1.0   0.0      1\n",
       "                                               ... \n",
       "48.0201.0210100.01042.0  17.0      1.0   0.0    110\n",
       "48.0201.0320100.01006.0  12.0      0.0   0.0    111\n",
       "48.0201.0210100.01042.0  17.0      0.0   0.0    119\n",
       "48.0415.0950600.05011.0  17.0      3.0   0.0    144\n",
       "Name: k_anon_2010, Length: 1525368, dtype: int64"
      ]
     },
     "execution_count": 39,
     "metadata": {},
     "output_type": "execute_result"
    }
   ],
   "source": [
    "# without reidentification to link on, there is still a risk of identifying a block with a trans kid\n",
    "# by finding blocks where there was a single kids of a given age in 2010 and that age+10 in 2020 and\n",
    "# different reported sex\n",
    "\n",
    "k_anon_2010 = df.groupby(['geoid_2010', 'age_2020', 'race', 'eth']).pweight.sum()\n",
    "k_anon_2010.name = 'k_anon_2010'\n",
    "k_anon_2010.sort_values()"
   ]
  },
  {
   "cell_type": "code",
   "execution_count": 40,
   "id": "c3f0c7e9",
   "metadata": {},
   "outputs": [],
   "source": [
    "df = pd.merge(how='left',\n",
    "              left=df, left_on=['geoid_2010', 'age_2020', 'race', 'eth'],\n",
    "              right=k_anon_2010, right_index=True,)\n",
    "df.k_anon_2010 = df.k_anon_2010.fillna(0)"
   ]
  },
  {
   "cell_type": "code",
   "execution_count": 41,
   "id": "7a190b3a",
   "metadata": {},
   "outputs": [
    {
     "data": {
      "text/html": [
       "<div>\n",
       "<style scoped>\n",
       "    .dataframe tbody tr th:only-of-type {\n",
       "        vertical-align: middle;\n",
       "    }\n",
       "\n",
       "    .dataframe tbody tr th {\n",
       "        vertical-align: top;\n",
       "    }\n",
       "\n",
       "    .dataframe thead th {\n",
       "        text-align: right;\n",
       "    }\n",
       "</style>\n",
       "<table border=\"1\" class=\"dataframe\">\n",
       "  <thead>\n",
       "    <tr style=\"text-align: right;\">\n",
       "      <th></th>\n",
       "      <th>state</th>\n",
       "      <th>county</th>\n",
       "      <th>tract</th>\n",
       "      <th>block</th>\n",
       "      <th>sex</th>\n",
       "      <th>race</th>\n",
       "      <th>eth</th>\n",
       "      <th>level_8</th>\n",
       "      <th>pweight</th>\n",
       "      <th>age_2020</th>\n",
       "      <th>age_2010</th>\n",
       "      <th>geoid_2020</th>\n",
       "      <th>geoid_2010</th>\n",
       "      <th>reported_sex_2020</th>\n",
       "      <th>gender</th>\n",
       "      <th>trans</th>\n",
       "      <th>reported_sex_2010</th>\n",
       "      <th>k_anon_2010</th>\n",
       "    </tr>\n",
       "  </thead>\n",
       "  <tbody>\n",
       "    <tr>\n",
       "      <th>0</th>\n",
       "      <td>48.0</td>\n",
       "      <td>1.0</td>\n",
       "      <td>950100.0</td>\n",
       "      <td>1000.0</td>\n",
       "      <td>0.0</td>\n",
       "      <td>5.0</td>\n",
       "      <td>1.0</td>\n",
       "      <td>0</td>\n",
       "      <td>1</td>\n",
       "      <td>10.0</td>\n",
       "      <td>0.0</td>\n",
       "      <td>48.01.0950100.01000.0</td>\n",
       "      <td>48.01.0950100.01000.0</td>\n",
       "      <td>0.0</td>\n",
       "      <td>cis_boy</td>\n",
       "      <td>False</td>\n",
       "      <td>0.0</td>\n",
       "      <td>1</td>\n",
       "    </tr>\n",
       "    <tr>\n",
       "      <th>1</th>\n",
       "      <td>48.0</td>\n",
       "      <td>1.0</td>\n",
       "      <td>950100.0</td>\n",
       "      <td>1000.0</td>\n",
       "      <td>1.0</td>\n",
       "      <td>5.0</td>\n",
       "      <td>1.0</td>\n",
       "      <td>0</td>\n",
       "      <td>1</td>\n",
       "      <td>11.0</td>\n",
       "      <td>1.0</td>\n",
       "      <td>48.01.0950100.01000.0</td>\n",
       "      <td>48.01.0950100.01000.0</td>\n",
       "      <td>1.0</td>\n",
       "      <td>cis_girl</td>\n",
       "      <td>False</td>\n",
       "      <td>1.0</td>\n",
       "      <td>1</td>\n",
       "    </tr>\n",
       "    <tr>\n",
       "      <th>2</th>\n",
       "      <td>48.0</td>\n",
       "      <td>1.0</td>\n",
       "      <td>950100.0</td>\n",
       "      <td>1000.0</td>\n",
       "      <td>0.0</td>\n",
       "      <td>5.0</td>\n",
       "      <td>1.0</td>\n",
       "      <td>0</td>\n",
       "      <td>1</td>\n",
       "      <td>13.0</td>\n",
       "      <td>3.0</td>\n",
       "      <td>48.01.0950100.01000.0</td>\n",
       "      <td>48.01.0950100.01000.0</td>\n",
       "      <td>0.0</td>\n",
       "      <td>cis_boy</td>\n",
       "      <td>False</td>\n",
       "      <td>0.0</td>\n",
       "      <td>1</td>\n",
       "    </tr>\n",
       "    <tr>\n",
       "      <th>7</th>\n",
       "      <td>48.0</td>\n",
       "      <td>1.0</td>\n",
       "      <td>950100.0</td>\n",
       "      <td>1000.0</td>\n",
       "      <td>0.0</td>\n",
       "      <td>1.0</td>\n",
       "      <td>0.0</td>\n",
       "      <td>0</td>\n",
       "      <td>1</td>\n",
       "      <td>16.0</td>\n",
       "      <td>6.0</td>\n",
       "      <td>48.01.0950100.01000.0</td>\n",
       "      <td>48.01.0950100.01000.0</td>\n",
       "      <td>0.0</td>\n",
       "      <td>cis_boy</td>\n",
       "      <td>False</td>\n",
       "      <td>0.0</td>\n",
       "      <td>1</td>\n",
       "    </tr>\n",
       "    <tr>\n",
       "      <th>...</th>\n",
       "      <td>...</td>\n",
       "      <td>...</td>\n",
       "      <td>...</td>\n",
       "      <td>...</td>\n",
       "      <td>...</td>\n",
       "      <td>...</td>\n",
       "      <td>...</td>\n",
       "      <td>...</td>\n",
       "      <td>...</td>\n",
       "      <td>...</td>\n",
       "      <td>...</td>\n",
       "      <td>...</td>\n",
       "      <td>...</td>\n",
       "      <td>...</td>\n",
       "      <td>...</td>\n",
       "      <td>...</td>\n",
       "      <td>...</td>\n",
       "      <td>...</td>\n",
       "    </tr>\n",
       "    <tr>\n",
       "      <th>3009113</th>\n",
       "      <td>48.0</td>\n",
       "      <td>507.0</td>\n",
       "      <td>950302.0</td>\n",
       "      <td>5025.0</td>\n",
       "      <td>0.0</td>\n",
       "      <td>0.0</td>\n",
       "      <td>1.0</td>\n",
       "      <td>0</td>\n",
       "      <td>1</td>\n",
       "      <td>13.0</td>\n",
       "      <td>3.0</td>\n",
       "      <td>48.0507.0950302.05025.0</td>\n",
       "      <td>48.0507.0950302.05025.0</td>\n",
       "      <td>0.0</td>\n",
       "      <td>cis_boy</td>\n",
       "      <td>False</td>\n",
       "      <td>0.0</td>\n",
       "      <td>1</td>\n",
       "    </tr>\n",
       "    <tr>\n",
       "      <th>3009114</th>\n",
       "      <td>48.0</td>\n",
       "      <td>507.0</td>\n",
       "      <td>950302.0</td>\n",
       "      <td>5025.0</td>\n",
       "      <td>1.0</td>\n",
       "      <td>0.0</td>\n",
       "      <td>1.0</td>\n",
       "      <td>0</td>\n",
       "      <td>1</td>\n",
       "      <td>17.0</td>\n",
       "      <td>7.0</td>\n",
       "      <td>48.0507.0950302.05025.0</td>\n",
       "      <td>48.0507.0950302.05025.0</td>\n",
       "      <td>1.0</td>\n",
       "      <td>cis_girl</td>\n",
       "      <td>False</td>\n",
       "      <td>1.0</td>\n",
       "      <td>1</td>\n",
       "    </tr>\n",
       "    <tr>\n",
       "      <th>3009115</th>\n",
       "      <td>48.0</td>\n",
       "      <td>507.0</td>\n",
       "      <td>950302.0</td>\n",
       "      <td>5026.0</td>\n",
       "      <td>0.0</td>\n",
       "      <td>0.0</td>\n",
       "      <td>1.0</td>\n",
       "      <td>0</td>\n",
       "      <td>1</td>\n",
       "      <td>15.0</td>\n",
       "      <td>5.0</td>\n",
       "      <td>48.0507.0950302.05026.0</td>\n",
       "      <td>48.0507.0950302.05026.0</td>\n",
       "      <td>0.0</td>\n",
       "      <td>cis_boy</td>\n",
       "      <td>False</td>\n",
       "      <td>0.0</td>\n",
       "      <td>1</td>\n",
       "    </tr>\n",
       "    <tr>\n",
       "      <th>3009116</th>\n",
       "      <td>48.0</td>\n",
       "      <td>507.0</td>\n",
       "      <td>950302.0</td>\n",
       "      <td>5026.0</td>\n",
       "      <td>0.0</td>\n",
       "      <td>0.0</td>\n",
       "      <td>1.0</td>\n",
       "      <td>0</td>\n",
       "      <td>1</td>\n",
       "      <td>17.0</td>\n",
       "      <td>7.0</td>\n",
       "      <td>48.0507.0950302.05026.0</td>\n",
       "      <td>48.0507.0950302.05026.0</td>\n",
       "      <td>0.0</td>\n",
       "      <td>cis_boy</td>\n",
       "      <td>False</td>\n",
       "      <td>0.0</td>\n",
       "      <td>1</td>\n",
       "    </tr>\n",
       "  </tbody>\n",
       "</table>\n",
       "<p>937370 rows × 18 columns</p>\n",
       "</div>"
      ],
      "text/plain": [
       "         state  county     tract   block  sex  race  eth  level_8  pweight  \\\n",
       "0         48.0     1.0  950100.0  1000.0  0.0   5.0  1.0        0        1   \n",
       "1         48.0     1.0  950100.0  1000.0  1.0   5.0  1.0        0        1   \n",
       "2         48.0     1.0  950100.0  1000.0  0.0   5.0  1.0        0        1   \n",
       "7         48.0     1.0  950100.0  1000.0  0.0   1.0  0.0        0        1   \n",
       "...        ...     ...       ...     ...  ...   ...  ...      ...      ...   \n",
       "3009113   48.0   507.0  950302.0  5025.0  0.0   0.0  1.0        0        1   \n",
       "3009114   48.0   507.0  950302.0  5025.0  1.0   0.0  1.0        0        1   \n",
       "3009115   48.0   507.0  950302.0  5026.0  0.0   0.0  1.0        0        1   \n",
       "3009116   48.0   507.0  950302.0  5026.0  0.0   0.0  1.0        0        1   \n",
       "\n",
       "         age_2020  age_2010               geoid_2020               geoid_2010  \\\n",
       "0            10.0       0.0    48.01.0950100.01000.0    48.01.0950100.01000.0   \n",
       "1            11.0       1.0    48.01.0950100.01000.0    48.01.0950100.01000.0   \n",
       "2            13.0       3.0    48.01.0950100.01000.0    48.01.0950100.01000.0   \n",
       "7            16.0       6.0    48.01.0950100.01000.0    48.01.0950100.01000.0   \n",
       "...           ...       ...                      ...                      ...   \n",
       "3009113      13.0       3.0  48.0507.0950302.05025.0  48.0507.0950302.05025.0   \n",
       "3009114      17.0       7.0  48.0507.0950302.05025.0  48.0507.0950302.05025.0   \n",
       "3009115      15.0       5.0  48.0507.0950302.05026.0  48.0507.0950302.05026.0   \n",
       "3009116      17.0       7.0  48.0507.0950302.05026.0  48.0507.0950302.05026.0   \n",
       "\n",
       "         reported_sex_2020    gender  trans  reported_sex_2010  k_anon_2010  \n",
       "0                      0.0   cis_boy  False                0.0            1  \n",
       "1                      1.0  cis_girl  False                1.0            1  \n",
       "2                      0.0   cis_boy  False                0.0            1  \n",
       "7                      0.0   cis_boy  False                0.0            1  \n",
       "...                    ...       ...    ...                ...          ...  \n",
       "3009113                0.0   cis_boy  False                0.0            1  \n",
       "3009114                1.0  cis_girl  False                1.0            1  \n",
       "3009115                0.0   cis_boy  False                0.0            1  \n",
       "3009116                0.0   cis_boy  False                0.0            1  \n",
       "\n",
       "[937370 rows x 18 columns]"
      ]
     },
     "execution_count": 41,
     "metadata": {},
     "output_type": "execute_result"
    }
   ],
   "source": [
    "# the rows with k_anon = 1 are putative matches\n",
    "# meaning the individual was unique age/race in 2010\n",
    "df[df.k_anon_2010 == 1]"
   ]
  },
  {
   "cell_type": "code",
   "execution_count": 42,
   "id": "1bef2924",
   "metadata": {},
   "outputs": [
    {
     "data": {
      "text/plain": [
       "geoid                    age   race  eth\n",
       "48.0337.0950400.02086.0  18.0  7.0   0.0       1.0\n",
       "48.0141.03100.04001.0    9.0   2.0   1.0       1.0\n",
       "                         10.0  0.0   1.0       1.0\n",
       "48.0439.0113929.04008.0  8.0   10.0  1.0       1.0\n",
       "                                             ...  \n",
       "48.0201.0210100.01042.0  18.0  0.0   0.0    2694.0\n",
       "48.0113.010000.01208.0   18.0  1.0   0.0    3195.0\n",
       "48.041.02015.01021.0     18.0  0.0   0.0    3887.0\n",
       "48.0201.0210100.01042.0  18.0  1.0   0.0    4471.0\n",
       "Name: k_anon_2020, Length: 4111430, dtype: float64"
      ]
     },
     "execution_count": 42,
     "metadata": {},
     "output_type": "execute_result"
    }
   ],
   "source": [
    "# some of these putative matches will be unclear, because of TDA or migration\n",
    "\n",
    "k_anon_2020 = dhc.set_index(['geoid', 'age', 'race', 'eth']).n\n",
    "k_anon_2020.name = 'k_anon_2020'\n",
    "k_anon_2020.sort_values()"
   ]
  },
  {
   "cell_type": "code",
   "execution_count": 43,
   "id": "a6acecaf",
   "metadata": {},
   "outputs": [],
   "source": [
    "df = pd.merge(how='left',\n",
    "              left=df, left_on=['geoid_2020', 'age_2020', 'race', 'eth'],\n",
    "              right=k_anon_2020, right_index=True,)\n",
    "df.k_anon_2020 = df.k_anon_2020.fillna(0)"
   ]
  },
  {
   "cell_type": "code",
   "execution_count": 44,
   "id": "58ee0928",
   "metadata": {},
   "outputs": [
    {
     "data": {
      "text/html": [
       "<div>\n",
       "<style scoped>\n",
       "    .dataframe tbody tr th:only-of-type {\n",
       "        vertical-align: middle;\n",
       "    }\n",
       "\n",
       "    .dataframe tbody tr th {\n",
       "        vertical-align: top;\n",
       "    }\n",
       "\n",
       "    .dataframe thead th {\n",
       "        text-align: right;\n",
       "    }\n",
       "</style>\n",
       "<table border=\"1\" class=\"dataframe\">\n",
       "  <thead>\n",
       "    <tr style=\"text-align: right;\">\n",
       "      <th></th>\n",
       "      <th>state</th>\n",
       "      <th>county</th>\n",
       "      <th>tract</th>\n",
       "      <th>block</th>\n",
       "      <th>sex</th>\n",
       "      <th>race</th>\n",
       "      <th>eth</th>\n",
       "      <th>level_8</th>\n",
       "      <th>pweight</th>\n",
       "      <th>age_2020</th>\n",
       "      <th>age_2010</th>\n",
       "      <th>geoid_2020</th>\n",
       "      <th>geoid_2010</th>\n",
       "      <th>reported_sex_2020</th>\n",
       "      <th>gender</th>\n",
       "      <th>trans</th>\n",
       "      <th>reported_sex_2010</th>\n",
       "      <th>k_anon_2010</th>\n",
       "      <th>k_anon_2020</th>\n",
       "    </tr>\n",
       "  </thead>\n",
       "  <tbody>\n",
       "    <tr>\n",
       "      <th>0</th>\n",
       "      <td>48.0</td>\n",
       "      <td>1.0</td>\n",
       "      <td>950100.0</td>\n",
       "      <td>1000.0</td>\n",
       "      <td>0.0</td>\n",
       "      <td>5.0</td>\n",
       "      <td>1.0</td>\n",
       "      <td>0</td>\n",
       "      <td>1</td>\n",
       "      <td>10.0</td>\n",
       "      <td>0.0</td>\n",
       "      <td>48.01.0950100.01000.0</td>\n",
       "      <td>48.01.0950100.01000.0</td>\n",
       "      <td>0.0</td>\n",
       "      <td>cis_boy</td>\n",
       "      <td>False</td>\n",
       "      <td>0.0</td>\n",
       "      <td>1</td>\n",
       "      <td>0.0</td>\n",
       "    </tr>\n",
       "    <tr>\n",
       "      <th>2028501</th>\n",
       "      <td>48.0</td>\n",
       "      <td>251.0</td>\n",
       "      <td>130208.0</td>\n",
       "      <td>3017.0</td>\n",
       "      <td>1.0</td>\n",
       "      <td>5.0</td>\n",
       "      <td>1.0</td>\n",
       "      <td>0</td>\n",
       "      <td>1</td>\n",
       "      <td>17.0</td>\n",
       "      <td>7.0</td>\n",
       "      <td>48.0251.0130208.03017.0</td>\n",
       "      <td>48.0251.0130208.03017.0</td>\n",
       "      <td>1.0</td>\n",
       "      <td>cis_girl</td>\n",
       "      <td>False</td>\n",
       "      <td>1.0</td>\n",
       "      <td>1</td>\n",
       "      <td>0.0</td>\n",
       "    </tr>\n",
       "    <tr>\n",
       "      <th>2028504</th>\n",
       "      <td>48.0</td>\n",
       "      <td>251.0</td>\n",
       "      <td>130208.0</td>\n",
       "      <td>3018.0</td>\n",
       "      <td>0.0</td>\n",
       "      <td>8.0</td>\n",
       "      <td>1.0</td>\n",
       "      <td>0</td>\n",
       "      <td>1</td>\n",
       "      <td>14.0</td>\n",
       "      <td>4.0</td>\n",
       "      <td>48.0251.0130208.03018.0</td>\n",
       "      <td>48.0121.021727.02029.0</td>\n",
       "      <td>0.0</td>\n",
       "      <td>cis_boy</td>\n",
       "      <td>False</td>\n",
       "      <td>0.0</td>\n",
       "      <td>1</td>\n",
       "      <td>0.0</td>\n",
       "    </tr>\n",
       "    <tr>\n",
       "      <th>2028505</th>\n",
       "      <td>48.0</td>\n",
       "      <td>251.0</td>\n",
       "      <td>130208.0</td>\n",
       "      <td>3018.0</td>\n",
       "      <td>1.0</td>\n",
       "      <td>0.0</td>\n",
       "      <td>0.0</td>\n",
       "      <td>0</td>\n",
       "      <td>1</td>\n",
       "      <td>16.0</td>\n",
       "      <td>6.0</td>\n",
       "      <td>48.0251.0130208.03018.0</td>\n",
       "      <td>48.0121.021727.02029.0</td>\n",
       "      <td>1.0</td>\n",
       "      <td>cis_girl</td>\n",
       "      <td>False</td>\n",
       "      <td>1.0</td>\n",
       "      <td>1</td>\n",
       "      <td>0.0</td>\n",
       "    </tr>\n",
       "    <tr>\n",
       "      <th>...</th>\n",
       "      <td>...</td>\n",
       "      <td>...</td>\n",
       "      <td>...</td>\n",
       "      <td>...</td>\n",
       "      <td>...</td>\n",
       "      <td>...</td>\n",
       "      <td>...</td>\n",
       "      <td>...</td>\n",
       "      <td>...</td>\n",
       "      <td>...</td>\n",
       "      <td>...</td>\n",
       "      <td>...</td>\n",
       "      <td>...</td>\n",
       "      <td>...</td>\n",
       "      <td>...</td>\n",
       "      <td>...</td>\n",
       "      <td>...</td>\n",
       "      <td>...</td>\n",
       "      <td>...</td>\n",
       "    </tr>\n",
       "    <tr>\n",
       "      <th>1713336</th>\n",
       "      <td>48.0</td>\n",
       "      <td>201.0</td>\n",
       "      <td>542302.0</td>\n",
       "      <td>1020.0</td>\n",
       "      <td>0.0</td>\n",
       "      <td>0.0</td>\n",
       "      <td>1.0</td>\n",
       "      <td>0</td>\n",
       "      <td>1</td>\n",
       "      <td>12.0</td>\n",
       "      <td>2.0</td>\n",
       "      <td>48.0201.0542302.01020.0</td>\n",
       "      <td>48.061.014100.03072.0</td>\n",
       "      <td>0.0</td>\n",
       "      <td>cis_boy</td>\n",
       "      <td>False</td>\n",
       "      <td>0.0</td>\n",
       "      <td>1</td>\n",
       "      <td>27.0</td>\n",
       "    </tr>\n",
       "    <tr>\n",
       "      <th>2230941</th>\n",
       "      <td>48.0</td>\n",
       "      <td>339.0</td>\n",
       "      <td>692001.0</td>\n",
       "      <td>1022.0</td>\n",
       "      <td>0.0</td>\n",
       "      <td>0.0</td>\n",
       "      <td>0.0</td>\n",
       "      <td>0</td>\n",
       "      <td>1</td>\n",
       "      <td>11.0</td>\n",
       "      <td>1.0</td>\n",
       "      <td>48.0339.0692001.01022.0</td>\n",
       "      <td>48.0201.0432400.02006.0</td>\n",
       "      <td>0.0</td>\n",
       "      <td>cis_boy</td>\n",
       "      <td>False</td>\n",
       "      <td>0.0</td>\n",
       "      <td>1</td>\n",
       "      <td>28.0</td>\n",
       "    </tr>\n",
       "    <tr>\n",
       "      <th>1936057</th>\n",
       "      <td>48.0</td>\n",
       "      <td>215.0</td>\n",
       "      <td>24112.0</td>\n",
       "      <td>2187.0</td>\n",
       "      <td>1.0</td>\n",
       "      <td>0.0</td>\n",
       "      <td>1.0</td>\n",
       "      <td>0</td>\n",
       "      <td>1</td>\n",
       "      <td>14.0</td>\n",
       "      <td>4.0</td>\n",
       "      <td>48.0215.024112.02187.0</td>\n",
       "      <td>48.085.031632.01042.0</td>\n",
       "      <td>1.0</td>\n",
       "      <td>cis_girl</td>\n",
       "      <td>False</td>\n",
       "      <td>1.0</td>\n",
       "      <td>1</td>\n",
       "      <td>28.0</td>\n",
       "    </tr>\n",
       "    <tr>\n",
       "      <th>1602473</th>\n",
       "      <td>48.0</td>\n",
       "      <td>201.0</td>\n",
       "      <td>452600.0</td>\n",
       "      <td>3027.0</td>\n",
       "      <td>0.0</td>\n",
       "      <td>1.0</td>\n",
       "      <td>0.0</td>\n",
       "      <td>0</td>\n",
       "      <td>1</td>\n",
       "      <td>13.0</td>\n",
       "      <td>3.0</td>\n",
       "      <td>48.0201.0452600.03027.0</td>\n",
       "      <td>48.0201.0452600.03027.0</td>\n",
       "      <td>0.0</td>\n",
       "      <td>cis_boy</td>\n",
       "      <td>False</td>\n",
       "      <td>0.0</td>\n",
       "      <td>1</td>\n",
       "      <td>31.0</td>\n",
       "    </tr>\n",
       "  </tbody>\n",
       "</table>\n",
       "<p>944975 rows × 19 columns</p>\n",
       "</div>"
      ],
      "text/plain": [
       "         state  county     tract   block  sex  race  eth  level_8  pweight  \\\n",
       "0         48.0     1.0  950100.0  1000.0  0.0   5.0  1.0        0        1   \n",
       "2028501   48.0   251.0  130208.0  3017.0  1.0   5.0  1.0        0        1   \n",
       "2028504   48.0   251.0  130208.0  3018.0  0.0   8.0  1.0        0        1   \n",
       "2028505   48.0   251.0  130208.0  3018.0  1.0   0.0  0.0        0        1   \n",
       "...        ...     ...       ...     ...  ...   ...  ...      ...      ...   \n",
       "1713336   48.0   201.0  542302.0  1020.0  0.0   0.0  1.0        0        1   \n",
       "2230941   48.0   339.0  692001.0  1022.0  0.0   0.0  0.0        0        1   \n",
       "1936057   48.0   215.0   24112.0  2187.0  1.0   0.0  1.0        0        1   \n",
       "1602473   48.0   201.0  452600.0  3027.0  0.0   1.0  0.0        0        1   \n",
       "\n",
       "         age_2020  age_2010               geoid_2020               geoid_2010  \\\n",
       "0            10.0       0.0    48.01.0950100.01000.0    48.01.0950100.01000.0   \n",
       "2028501      17.0       7.0  48.0251.0130208.03017.0  48.0251.0130208.03017.0   \n",
       "2028504      14.0       4.0  48.0251.0130208.03018.0   48.0121.021727.02029.0   \n",
       "2028505      16.0       6.0  48.0251.0130208.03018.0   48.0121.021727.02029.0   \n",
       "...           ...       ...                      ...                      ...   \n",
       "1713336      12.0       2.0  48.0201.0542302.01020.0    48.061.014100.03072.0   \n",
       "2230941      11.0       1.0  48.0339.0692001.01022.0  48.0201.0432400.02006.0   \n",
       "1936057      14.0       4.0   48.0215.024112.02187.0    48.085.031632.01042.0   \n",
       "1602473      13.0       3.0  48.0201.0452600.03027.0  48.0201.0452600.03027.0   \n",
       "\n",
       "         reported_sex_2020    gender  trans  reported_sex_2010  k_anon_2010  \\\n",
       "0                      0.0   cis_boy  False                0.0            1   \n",
       "2028501                1.0  cis_girl  False                1.0            1   \n",
       "2028504                0.0   cis_boy  False                0.0            1   \n",
       "2028505                1.0  cis_girl  False                1.0            1   \n",
       "...                    ...       ...    ...                ...          ...   \n",
       "1713336                0.0   cis_boy  False                0.0            1   \n",
       "2230941                0.0   cis_boy  False                0.0            1   \n",
       "1936057                1.0  cis_girl  False                1.0            1   \n",
       "1602473                0.0   cis_boy  False                0.0            1   \n",
       "\n",
       "         k_anon_2020  \n",
       "0                0.0  \n",
       "2028501          0.0  \n",
       "2028504          0.0  \n",
       "2028505          0.0  \n",
       "...              ...  \n",
       "1713336         27.0  \n",
       "2230941         28.0  \n",
       "1936057         28.0  \n",
       "1602473         31.0  \n",
       "\n",
       "[944975 rows x 19 columns]"
      ]
     },
     "execution_count": 44,
     "metadata": {},
     "output_type": "execute_result"
    }
   ],
   "source": [
    "df[df.k_anon_2010 == 1].sort_values('k_anon_2020')"
   ]
  },
  {
   "cell_type": "code",
   "execution_count": 45,
   "id": "f425aafd",
   "metadata": {},
   "outputs": [
    {
     "data": {
      "text/plain": [
       "60586"
      ]
     },
     "execution_count": 45,
     "metadata": {},
     "output_type": "execute_result"
    }
   ],
   "source": [
    "# the rows with k_anon_2010 an d_2020 = 1 are putative that are unique on both sides\n",
    "len(df[(df.k_anon_2010 == 1) & (df.k_anon_2020 == 1)])"
   ]
  },
  {
   "cell_type": "code",
   "execution_count": 46,
   "id": "a4915e27",
   "metadata": {},
   "outputs": [
    {
     "data": {
      "text/plain": [
       "16183"
      ]
     },
     "execution_count": 46,
     "metadata": {},
     "output_type": "execute_result"
    }
   ],
   "source": [
    "# these putative matches that have the same geoid in 2010 and 2020 are confirmed matches\n",
    "len(df[(df.k_anon_2010 == 1) & (df.k_anon_2020 == 1)\n",
    "       & (df.geoid_2010 == df.geoid_2020)])"
   ]
  },
  {
   "cell_type": "code",
   "execution_count": 47,
   "id": "959854aa",
   "metadata": {},
   "outputs": [
    {
     "data": {
      "text/plain": [
       "26"
      ]
     },
     "execution_count": 47,
     "metadata": {},
     "output_type": "execute_result"
    }
   ],
   "source": [
    "len(df[(df.k_anon_2010 == 1) & (df.k_anon_2020 == 1)\n",
    "       & (df.geoid_2010 == df.geoid_2020)\n",
    "       & (df.reported_sex_2010 != df.reported_sex_2020)\n",
    "      ])"
   ]
  },
  {
   "cell_type": "code",
   "execution_count": 48,
   "id": "3715a434",
   "metadata": {},
   "outputs": [
    {
     "data": {
      "text/plain": [
       "26"
      ]
     },
     "execution_count": 48,
     "metadata": {},
     "output_type": "execute_result"
    }
   ],
   "source": [
    "len(df[(df.k_anon_2010 == 1) & (df.k_anon_2020 == 1)\n",
    "       & (df.geoid_2010 == df.geoid_2020)\n",
    "       & (df.reported_sex_2010 != df.reported_sex_2020)\n",
    "       & df.trans\n",
    "      ])"
   ]
  },
  {
   "cell_type": "code",
   "execution_count": null,
   "id": "efc170a5",
   "metadata": {},
   "outputs": [],
   "source": []
  },
  {
   "cell_type": "code",
   "execution_count": null,
   "id": "45725e87",
   "metadata": {},
   "outputs": [],
   "source": []
  }
 ],
 "metadata": {
  "kernelspec": {
   "display_name": "pyomo_env",
   "language": "python",
   "name": "pyomo_env"
  },
  "language_info": {
   "codemirror_mode": {
    "name": "ipython",
    "version": 3
   },
   "file_extension": ".py",
   "mimetype": "text/x-python",
   "name": "python",
   "nbconvert_exporter": "python",
   "pygments_lexer": "ipython3",
   "version": "3.10.4"
  }
 },
 "nbformat": 4,
 "nbformat_minor": 5
}
