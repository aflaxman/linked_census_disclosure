{
 "cells": [
  {
   "cell_type": "code",
   "execution_count": 1,
   "id": "694dfd52",
   "metadata": {},
   "outputs": [
    {
     "name": "stdout",
     "output_type": "stream",
     "text": [
      "Mon May 16 20:04:53 PDT 2022\r\n"
     ]
    }
   ],
   "source": [
    "import numpy as np, matplotlib.pyplot as plt, pandas as pd\n",
    "pd.set_option('display.max_rows', 8)\n",
    "!date\n",
    "\n",
    "%load_ext autoreload\n",
    "%autoreload 2"
   ]
  },
  {
   "cell_type": "markdown",
   "id": "df74a1e9",
   "metadata": {},
   "source": [
    "# Scenario 1, 2, 3: non-TDA approaches to DAS"
   ]
  },
  {
   "cell_type": "code",
   "execution_count": 2,
   "id": "8432d3b3",
   "metadata": {},
   "outputs": [],
   "source": [
    "np.random.seed(12345)"
   ]
  },
  {
   "cell_type": "markdown",
   "id": "fc70badb",
   "metadata": {},
   "source": [
    "# Load synthetic data for TX and use it to simulate 2010 and 2020 populations"
   ]
  },
  {
   "cell_type": "code",
   "execution_count": 3,
   "id": "feaa2385",
   "metadata": {},
   "outputs": [],
   "source": [
    "import linked_census_disclosure.data as lcd_data"
   ]
  },
  {
   "cell_type": "code",
   "execution_count": 4,
   "id": "a3e291fd",
   "metadata": {},
   "outputs": [
    {
     "name": "stdout",
     "output_type": "stream",
     "text": [
      "CPU times: user 51.4 s, sys: 8.65 s, total: 1min\n",
      "Wall time: 1min 2s\n"
     ]
    }
   ],
   "source": [
    "%%time\n",
    "\n",
    "df = lcd_data.read_synth_data('tx')"
   ]
  },
  {
   "cell_type": "code",
   "execution_count": 5,
   "id": "6265d968",
   "metadata": {},
   "outputs": [
    {
     "data": {
      "text/plain": [
       "'25,145,561'"
      ]
     },
     "execution_count": 5,
     "metadata": {},
     "output_type": "execute_result"
    }
   ],
   "source": [
    "# does this have the expected number of rows?\n",
    "f'{len(df):,.0f}' # expect population of texas in 2010 to be 25,145,561"
   ]
  },
  {
   "cell_type": "markdown",
   "id": "ad4e2b13",
   "metadata": {},
   "source": [
    "# Focus in on the 0-7 year olds"
   ]
  },
  {
   "cell_type": "code",
   "execution_count": 6,
   "id": "bd2eb411",
   "metadata": {},
   "outputs": [
    {
     "data": {
      "text/plain": [
       "'3,095,857'"
      ]
     },
     "execution_count": 6,
     "metadata": {},
     "output_type": "execute_result"
    }
   ],
   "source": [
    "df_all = df\n",
    "\n",
    "df = df[df.age < 8].copy()\n",
    "\n",
    "n_kids = len(df)  # number of children\n",
    "f'{n_kids:,.0f}'"
   ]
  },
  {
   "cell_type": "markdown",
   "id": "7c5eb6f4",
   "metadata": {},
   "source": [
    "# Make gender column, based on BRFSS 2019 SOGI results\n",
    "\n",
    "In future work, could try to incorporate observation that there is substantial age dependence in these values.  But for now, keep it simple, and work with the crude prevalence rates."
   ]
  },
  {
   "cell_type": "code",
   "execution_count": 7,
   "id": "612b2d85",
   "metadata": {},
   "outputs": [
    {
     "data": {
      "text/plain": [
       "array([0.00182556, 0.00223124, 0.00121704, 0.99472617])"
      ]
     },
     "execution_count": 7,
     "metadata": {},
     "output_type": "execute_result"
    }
   ],
   "source": [
    "p_trans_boy = 0.18 / 100\n",
    "p_trans_girl = 0.22 / 100\n",
    "p_trans_other = 0.12 / 100\n",
    "p_cis = 98.08 / 100\n",
    "\n",
    "# rescale to sum to 100%\n",
    "p_gender = np.array([p_trans_boy, p_trans_girl, p_trans_other, p_cis])\n",
    "p_gender /= p_gender.sum()\n",
    "p_gender"
   ]
  },
  {
   "cell_type": "code",
   "execution_count": 8,
   "id": "fe3d9511",
   "metadata": {},
   "outputs": [],
   "source": [
    "# first initialize gender without distinguishing cis boy and cis girl\n",
    "# since that matches BRFSS SOGI question\n",
    "df['gender'] = np.random.choice(['trans_boy', 'trans_girl', 'trans_other', 'cis'], p=p_gender, size=len(df))"
   ]
  },
  {
   "cell_type": "code",
   "execution_count": 9,
   "id": "18f988d9",
   "metadata": {},
   "outputs": [],
   "source": [
    "# now distinguish cis based on reconstructed sex_id\n",
    "df.gender = np.where(df.gender == 'cis',\n",
    "                     df.sex_id.map({1:'cis_boy', 2:'cis_girl'}),\n",
    "                     df.gender)"
   ]
  },
  {
   "cell_type": "code",
   "execution_count": 10,
   "id": "682973de",
   "metadata": {},
   "outputs": [],
   "source": [
    "df['trans'] = df.gender.isin(['trans_boy', 'trans_girl', 'trans_other'])"
   ]
  },
  {
   "cell_type": "code",
   "execution_count": 11,
   "id": "44c3bdc9",
   "metadata": {},
   "outputs": [
    {
     "data": {
      "text/plain": [
       "cis_boy        50.80\n",
       "cis_girl       48.67\n",
       "trans_girl      0.23\n",
       "trans_boy       0.18\n",
       "trans_other     0.12\n",
       "Name: gender, dtype: float64"
      ]
     },
     "execution_count": 11,
     "metadata": {},
     "output_type": "execute_result"
    }
   ],
   "source": [
    "np.round(100 * df.gender.value_counts(normalize=True), 2)"
   ]
  },
  {
   "cell_type": "code",
   "execution_count": 12,
   "id": "d24aba4b",
   "metadata": {},
   "outputs": [
    {
     "data": {
      "text/plain": [
       "0.53"
      ]
     },
     "execution_count": 12,
     "metadata": {},
     "output_type": "execute_result"
    }
   ],
   "source": [
    "np.round(100 * df.gender.value_counts(normalize=True).filter(like='trans').sum(), 2)"
   ]
  },
  {
   "cell_type": "code",
   "execution_count": 13,
   "id": "bc986237",
   "metadata": {},
   "outputs": [
    {
     "data": {
      "text/plain": [
       "0.53"
      ]
     },
     "execution_count": 13,
     "metadata": {},
     "output_type": "execute_result"
    }
   ],
   "source": [
    "np.round(100 * df.trans.mean(), 2)"
   ]
  },
  {
   "cell_type": "code",
   "execution_count": 14,
   "id": "1e4f04c1",
   "metadata": {},
   "outputs": [],
   "source": [
    "#### simulate 10 years of demographic change\n",
    "\n",
    "df['age_2010'] = df.age\n",
    "df['age_2020'] = df.age + 10\n",
    "del df['age']"
   ]
  },
  {
   "cell_type": "code",
   "execution_count": 15,
   "id": "c8572e28",
   "metadata": {},
   "outputs": [],
   "source": [
    "\n",
    "\n",
    "# ignore births and in-migration, because we are focused\n",
    "# only on kids who can be linked between 2010 and 2020 census\n"
   ]
  },
  {
   "cell_type": "markdown",
   "id": "77966556",
   "metadata": {},
   "source": [
    "# p_stay from ACS, see [2022_04_19a_das_dhc_attack_mig_data.ipynb](2022_04_19a_das_dhc_attack_mig_data.ipynb)"
   ]
  },
  {
   "cell_type": "code",
   "execution_count": 16,
   "id": "f5061d00",
   "metadata": {},
   "outputs": [],
   "source": [
    "\n",
    "# simple model of internal and out-migration, based on probability\n",
    "# of being in same house for 10+ years among household with 8-17 year olds\n",
    "# in ACS\n",
    "\n",
    "\n",
    "p_stay = 0.23\n"
   ]
  },
  {
   "cell_type": "code",
   "execution_count": 17,
   "id": "b9d411a9",
   "metadata": {},
   "outputs": [],
   "source": [
    "all_locations = df_all.hh_id.unique()"
   ]
  },
  {
   "cell_type": "code",
   "execution_count": 18,
   "id": "50fb560f",
   "metadata": {},
   "outputs": [],
   "source": [
    "locations_2010 = df.hh_id.unique()"
   ]
  },
  {
   "cell_type": "code",
   "execution_count": 19,
   "id": "1e7134ad",
   "metadata": {},
   "outputs": [],
   "source": [
    "random_location = np.random.choice(all_locations, size=len(locations_2010),\n",
    "                     replace=True)\n",
    "\n",
    "locations_2020 = np.where(np.random.uniform(size=len(locations_2010)) < p_stay,\n",
    "                         locations_2010,\n",
    "                         random_location)\n",
    "\n",
    "s_location_2020 = pd.Series(locations_2020,\n",
    "                            index=locations_2010)"
   ]
  },
  {
   "cell_type": "code",
   "execution_count": 20,
   "id": "ba44bc0c",
   "metadata": {},
   "outputs": [
    {
     "data": {
      "text/plain": [
       "0.2300973519264052"
      ]
     },
     "execution_count": 20,
     "metadata": {},
     "output_type": "execute_result"
    }
   ],
   "source": [
    "np.mean(locations_2010 == locations_2020)  # should be around 0.23"
   ]
  },
  {
   "cell_type": "code",
   "execution_count": 21,
   "id": "c27ccf09",
   "metadata": {},
   "outputs": [
    {
     "data": {
      "text/html": [
       "<div>\n",
       "<style scoped>\n",
       "    .dataframe tbody tr th:only-of-type {\n",
       "        vertical-align: middle;\n",
       "    }\n",
       "\n",
       "    .dataframe tbody tr th {\n",
       "        vertical-align: top;\n",
       "    }\n",
       "\n",
       "    .dataframe thead th {\n",
       "        text-align: right;\n",
       "    }\n",
       "</style>\n",
       "<table border=\"1\" class=\"dataframe\">\n",
       "  <thead>\n",
       "    <tr style=\"text-align: right;\">\n",
       "      <th></th>\n",
       "      <th>state</th>\n",
       "      <th>county</th>\n",
       "      <th>tract</th>\n",
       "      <th>block</th>\n",
       "      <th>geoid</th>\n",
       "      <th>sex_id</th>\n",
       "      <th>relationship</th>\n",
       "      <th>hispanic</th>\n",
       "      <th>racaian</th>\n",
       "      <th>racasn</th>\n",
       "      <th>...</th>\n",
       "      <th>racnhpi</th>\n",
       "      <th>racsor</th>\n",
       "      <th>racwht</th>\n",
       "      <th>pweight</th>\n",
       "      <th>gender</th>\n",
       "      <th>trans</th>\n",
       "      <th>age_2010</th>\n",
       "      <th>age_2020</th>\n",
       "      <th>hh_id_2010</th>\n",
       "      <th>hh_id_2020</th>\n",
       "    </tr>\n",
       "  </thead>\n",
       "  <tbody>\n",
       "    <tr>\n",
       "      <th>10</th>\n",
       "      <td>48</td>\n",
       "      <td>441</td>\n",
       "      <td>11600</td>\n",
       "      <td>1000</td>\n",
       "      <td>484410116001000</td>\n",
       "      <td>1</td>\n",
       "      <td>20</td>\n",
       "      <td>0</td>\n",
       "      <td>0</td>\n",
       "      <td>0</td>\n",
       "      <td>...</td>\n",
       "      <td>0</td>\n",
       "      <td>0</td>\n",
       "      <td>1</td>\n",
       "      <td>1</td>\n",
       "      <td>cis_boy</td>\n",
       "      <td>False</td>\n",
       "      <td>4</td>\n",
       "      <td>14</td>\n",
       "      <td>484410116001000-46</td>\n",
       "      <td>484790017113021-44</td>\n",
       "    </tr>\n",
       "    <tr>\n",
       "      <th>11</th>\n",
       "      <td>48</td>\n",
       "      <td>441</td>\n",
       "      <td>11600</td>\n",
       "      <td>1000</td>\n",
       "      <td>484410116001000</td>\n",
       "      <td>1</td>\n",
       "      <td>20</td>\n",
       "      <td>0</td>\n",
       "      <td>0</td>\n",
       "      <td>0</td>\n",
       "      <td>...</td>\n",
       "      <td>0</td>\n",
       "      <td>0</td>\n",
       "      <td>1</td>\n",
       "      <td>1</td>\n",
       "      <td>cis_boy</td>\n",
       "      <td>False</td>\n",
       "      <td>0</td>\n",
       "      <td>10</td>\n",
       "      <td>484410116001000-47</td>\n",
       "      <td>482014325011000-289</td>\n",
       "    </tr>\n",
       "    <tr>\n",
       "      <th>12</th>\n",
       "      <td>48</td>\n",
       "      <td>441</td>\n",
       "      <td>11600</td>\n",
       "      <td>1000</td>\n",
       "      <td>484410116001000</td>\n",
       "      <td>1</td>\n",
       "      <td>20</td>\n",
       "      <td>0</td>\n",
       "      <td>0</td>\n",
       "      <td>0</td>\n",
       "      <td>...</td>\n",
       "      <td>0</td>\n",
       "      <td>0</td>\n",
       "      <td>1</td>\n",
       "      <td>1</td>\n",
       "      <td>cis_boy</td>\n",
       "      <td>False</td>\n",
       "      <td>0</td>\n",
       "      <td>10</td>\n",
       "      <td>484410116001000-48</td>\n",
       "      <td>484410116001000-48</td>\n",
       "    </tr>\n",
       "    <tr>\n",
       "      <th>13</th>\n",
       "      <td>48</td>\n",
       "      <td>441</td>\n",
       "      <td>11600</td>\n",
       "      <td>1000</td>\n",
       "      <td>484410116001000</td>\n",
       "      <td>1</td>\n",
       "      <td>20</td>\n",
       "      <td>0</td>\n",
       "      <td>0</td>\n",
       "      <td>0</td>\n",
       "      <td>...</td>\n",
       "      <td>0</td>\n",
       "      <td>0</td>\n",
       "      <td>1</td>\n",
       "      <td>1</td>\n",
       "      <td>cis_boy</td>\n",
       "      <td>False</td>\n",
       "      <td>4</td>\n",
       "      <td>14</td>\n",
       "      <td>484410116001000-49</td>\n",
       "      <td>483671404152042-232</td>\n",
       "    </tr>\n",
       "    <tr>\n",
       "      <th>...</th>\n",
       "      <td>...</td>\n",
       "      <td>...</td>\n",
       "      <td>...</td>\n",
       "      <td>...</td>\n",
       "      <td>...</td>\n",
       "      <td>...</td>\n",
       "      <td>...</td>\n",
       "      <td>...</td>\n",
       "      <td>...</td>\n",
       "      <td>...</td>\n",
       "      <td>...</td>\n",
       "      <td>...</td>\n",
       "      <td>...</td>\n",
       "      <td>...</td>\n",
       "      <td>...</td>\n",
       "      <td>...</td>\n",
       "      <td>...</td>\n",
       "      <td>...</td>\n",
       "      <td>...</td>\n",
       "      <td>...</td>\n",
       "      <td>...</td>\n",
       "    </tr>\n",
       "    <tr>\n",
       "      <th>25145452</th>\n",
       "      <td>48</td>\n",
       "      <td>113</td>\n",
       "      <td>7916</td>\n",
       "      <td>2001</td>\n",
       "      <td>481130079162001</td>\n",
       "      <td>2</td>\n",
       "      <td>25</td>\n",
       "      <td>1</td>\n",
       "      <td>0</td>\n",
       "      <td>0</td>\n",
       "      <td>...</td>\n",
       "      <td>0</td>\n",
       "      <td>0</td>\n",
       "      <td>1</td>\n",
       "      <td>1</td>\n",
       "      <td>cis_girl</td>\n",
       "      <td>False</td>\n",
       "      <td>6</td>\n",
       "      <td>16</td>\n",
       "      <td>481130079162001-756</td>\n",
       "      <td>481130079162001-756</td>\n",
       "    </tr>\n",
       "    <tr>\n",
       "      <th>25145492</th>\n",
       "      <td>48</td>\n",
       "      <td>113</td>\n",
       "      <td>7916</td>\n",
       "      <td>2001</td>\n",
       "      <td>481130079162001</td>\n",
       "      <td>1</td>\n",
       "      <td>27</td>\n",
       "      <td>1</td>\n",
       "      <td>0</td>\n",
       "      <td>0</td>\n",
       "      <td>...</td>\n",
       "      <td>0</td>\n",
       "      <td>1</td>\n",
       "      <td>0</td>\n",
       "      <td>1</td>\n",
       "      <td>cis_boy</td>\n",
       "      <td>False</td>\n",
       "      <td>4</td>\n",
       "      <td>14</td>\n",
       "      <td>481130079162001-762</td>\n",
       "      <td>481130136221000-10</td>\n",
       "    </tr>\n",
       "    <tr>\n",
       "      <th>25145493</th>\n",
       "      <td>48</td>\n",
       "      <td>113</td>\n",
       "      <td>7916</td>\n",
       "      <td>2001</td>\n",
       "      <td>481130079162001</td>\n",
       "      <td>1</td>\n",
       "      <td>25</td>\n",
       "      <td>1</td>\n",
       "      <td>0</td>\n",
       "      <td>0</td>\n",
       "      <td>...</td>\n",
       "      <td>0</td>\n",
       "      <td>1</td>\n",
       "      <td>0</td>\n",
       "      <td>1</td>\n",
       "      <td>cis_boy</td>\n",
       "      <td>False</td>\n",
       "      <td>3</td>\n",
       "      <td>13</td>\n",
       "      <td>481130079162001-788</td>\n",
       "      <td>481130079162001-788</td>\n",
       "    </tr>\n",
       "    <tr>\n",
       "      <th>25145517</th>\n",
       "      <td>48</td>\n",
       "      <td>113</td>\n",
       "      <td>7916</td>\n",
       "      <td>1002</td>\n",
       "      <td>481130079161002</td>\n",
       "      <td>2</td>\n",
       "      <td>30</td>\n",
       "      <td>1</td>\n",
       "      <td>0</td>\n",
       "      <td>0</td>\n",
       "      <td>...</td>\n",
       "      <td>0</td>\n",
       "      <td>1</td>\n",
       "      <td>0</td>\n",
       "      <td>1</td>\n",
       "      <td>cis_girl</td>\n",
       "      <td>False</td>\n",
       "      <td>0</td>\n",
       "      <td>10</td>\n",
       "      <td>481130079161002-784</td>\n",
       "      <td>481450005001010-5</td>\n",
       "    </tr>\n",
       "  </tbody>\n",
       "</table>\n",
       "<p>3095857 rows × 21 columns</p>\n",
       "</div>"
      ],
      "text/plain": [
       "          state  county  tract  block            geoid  sex_id  relationship  \\\n",
       "10           48     441  11600   1000  484410116001000       1            20   \n",
       "11           48     441  11600   1000  484410116001000       1            20   \n",
       "12           48     441  11600   1000  484410116001000       1            20   \n",
       "13           48     441  11600   1000  484410116001000       1            20   \n",
       "...         ...     ...    ...    ...              ...     ...           ...   \n",
       "25145452     48     113   7916   2001  481130079162001       2            25   \n",
       "25145492     48     113   7916   2001  481130079162001       1            27   \n",
       "25145493     48     113   7916   2001  481130079162001       1            25   \n",
       "25145517     48     113   7916   1002  481130079161002       2            30   \n",
       "\n",
       "          hispanic  racaian  racasn  ...  racnhpi  racsor  racwht  pweight  \\\n",
       "10               0        0       0  ...        0       0       1        1   \n",
       "11               0        0       0  ...        0       0       1        1   \n",
       "12               0        0       0  ...        0       0       1        1   \n",
       "13               0        0       0  ...        0       0       1        1   \n",
       "...            ...      ...     ...  ...      ...     ...     ...      ...   \n",
       "25145452         1        0       0  ...        0       0       1        1   \n",
       "25145492         1        0       0  ...        0       1       0        1   \n",
       "25145493         1        0       0  ...        0       1       0        1   \n",
       "25145517         1        0       0  ...        0       1       0        1   \n",
       "\n",
       "            gender  trans  age_2010  age_2020           hh_id_2010  \\\n",
       "10         cis_boy  False         4        14   484410116001000-46   \n",
       "11         cis_boy  False         0        10   484410116001000-47   \n",
       "12         cis_boy  False         0        10   484410116001000-48   \n",
       "13         cis_boy  False         4        14   484410116001000-49   \n",
       "...            ...    ...       ...       ...                  ...   \n",
       "25145452  cis_girl  False         6        16  481130079162001-756   \n",
       "25145492   cis_boy  False         4        14  481130079162001-762   \n",
       "25145493   cis_boy  False         3        13  481130079162001-788   \n",
       "25145517  cis_girl  False         0        10  481130079161002-784   \n",
       "\n",
       "                   hh_id_2020  \n",
       "10         484790017113021-44  \n",
       "11        482014325011000-289  \n",
       "12         484410116001000-48  \n",
       "13        483671404152042-232  \n",
       "...                       ...  \n",
       "25145452  481130079162001-756  \n",
       "25145492   481130136221000-10  \n",
       "25145493  481130079162001-788  \n",
       "25145517    481450005001010-5  \n",
       "\n",
       "[3095857 rows x 21 columns]"
      ]
     },
     "execution_count": 21,
     "metadata": {},
     "output_type": "execute_result"
    }
   ],
   "source": [
    "df['hh_id_2010'] = df.hh_id\n",
    "df['hh_id_2020'] = df.hh_id.map(s_location_2020)\n",
    "del df['hh_id']\n",
    "\n",
    "df"
   ]
  },
  {
   "cell_type": "code",
   "execution_count": 22,
   "id": "64e8244a",
   "metadata": {},
   "outputs": [],
   "source": [
    "# number of trans families identified by age, geoid from reconstruction without noise\n",
    "\n",
    "df['geoid_2010'] = df.geoid\n",
    "df['geoid_2020'] = df.hh_id_2020.map(lambda x: int(x.split('-')[0]))"
   ]
  },
  {
   "cell_type": "code",
   "execution_count": 23,
   "id": "1d4f0e3f",
   "metadata": {},
   "outputs": [
    {
     "data": {
      "text/plain": [
       "0.2299767075804858"
      ]
     },
     "execution_count": 23,
     "metadata": {},
     "output_type": "execute_result"
    }
   ],
   "source": [
    "np.mean(df.hh_id_2010 == df.hh_id_2020)  # should be around 23%"
   ]
  },
  {
   "cell_type": "code",
   "execution_count": 24,
   "id": "d121ac50",
   "metadata": {},
   "outputs": [
    {
     "data": {
      "text/plain": [
       "0.22998155276551857"
      ]
     },
     "execution_count": 24,
     "metadata": {},
     "output_type": "execute_result"
    }
   ],
   "source": [
    "np.mean(df.geoid_2010 == df.geoid_2020)  # should be around 23%"
   ]
  },
  {
   "cell_type": "markdown",
   "id": "6922ce8e",
   "metadata": {},
   "source": [
    "# final step: model of gender reported on 2020 census\n",
    "\n",
    "# BRFSS data in [2022_04_18b_das_dhc_attack_sogi_data.ipynb](2022_04_18b_das_dhc_attack_sogi_data.ipynb)"
   ]
  },
  {
   "cell_type": "code",
   "execution_count": 25,
   "id": "c8329428",
   "metadata": {},
   "outputs": [],
   "source": [
    "def gender_to_sex_2010(gender):\n",
    "    # map gender to gender assigned at birth\n",
    "    sex = gender.map({'trans_boy':2,\n",
    "                       'trans_girl':1,\n",
    "                       'trans_other':np.nan,  # fill in next, randomly\n",
    "                       'cis_boy':1,\n",
    "                       'cis_girl':2\n",
    "                      })\n",
    "    sex[gender == 'trans_other'] = np.random.choice([1,2], size=sum(gender == 'trans_other'))\n",
    "    return sex\n",
    "\n",
    "def gender_to_sex_2020(gender, reported_sex_2010):\n",
    "    # start with values reported in 2010\n",
    "    sex = reported_sex_2010.copy()\n",
    "    \n",
    "    # update a random subset of the trans_boy and trans_girl entries\n",
    "    sex = np.where((gender == 'trans_boy') & (np.random.uniform(size=len(sex)) < 0.5),\n",
    "                   1,\n",
    "                   sex\n",
    "                  )\n",
    "    sex = np.where((gender == 'trans_girl') & (np.random.uniform(size=len(sex)) < 0.5),\n",
    "                   2,\n",
    "                   sex\n",
    "                  )\n",
    "    return sex\n"
   ]
  },
  {
   "cell_type": "code",
   "execution_count": 26,
   "id": "34fb9222",
   "metadata": {},
   "outputs": [],
   "source": [
    "df['reported_sex_2010'] = gender_to_sex_2010(df.gender)\n",
    "\n",
    "df['reported_sex_2020'] = gender_to_sex_2020(df.gender, df.reported_sex_2010)"
   ]
  },
  {
   "cell_type": "code",
   "execution_count": 27,
   "id": "f85bc972",
   "metadata": {},
   "outputs": [
    {
     "data": {
      "text/plain": [
       "cis_boy        0.508043\n",
       "cis_girl       0.486707\n",
       "trans_girl     0.002254\n",
       "trans_boy      0.001809\n",
       "trans_other    0.001187\n",
       "Name: gender, dtype: float64"
      ]
     },
     "execution_count": 27,
     "metadata": {},
     "output_type": "execute_result"
    }
   ],
   "source": [
    "df['gender'].value_counts(normalize=True)"
   ]
  },
  {
   "cell_type": "code",
   "execution_count": 28,
   "id": "cf41dbc8",
   "metadata": {},
   "outputs": [
    {
     "data": {
      "text/plain": [
       "0.002002676480212103"
      ]
     },
     "execution_count": 28,
     "metadata": {},
     "output_type": "execute_result"
    }
   ],
   "source": [
    "np.mean(df.reported_sex_2010 != df.reported_sex_2020)"
   ]
  },
  {
   "cell_type": "markdown",
   "id": "c8ff9b64",
   "metadata": {},
   "source": [
    "# Values for results section"
   ]
  },
  {
   "cell_type": "code",
   "execution_count": 29,
   "id": "e7143663",
   "metadata": {},
   "outputs": [
    {
     "data": {
      "text/plain": [
       "'3,095,857'"
      ]
     },
     "execution_count": 29,
     "metadata": {},
     "output_type": "execute_result"
    }
   ],
   "source": [
    "# Our synthetic population matched the age, sex, race/ethnicity, and geography of Texas\n",
    "# on census day April 1, 2010, with\n",
    "# X children ages 0-7 in Y household on census day 2010\n",
    "\n",
    "n_kids = len(df)  # number of children\n",
    "f'{n_kids:,.0f}'"
   ]
  },
  {
   "cell_type": "code",
   "execution_count": 30,
   "id": "03dce5de",
   "metadata": {},
   "outputs": [
    {
     "data": {
      "text/plain": [
       "6346.506850000001"
      ]
     },
     "execution_count": 30,
     "metadata": {},
     "output_type": "execute_result"
    }
   ],
   "source": [
    "# back of envelope scenario 1\n",
    "3_095_857 * (0.18 + 0.23)/100 * 0.5 "
   ]
  },
  {
   "cell_type": "code",
   "execution_count": 31,
   "id": "3d44190c",
   "metadata": {},
   "outputs": [
    {
     "data": {
      "text/plain": [
       "1424.09422"
      ]
     },
     "execution_count": 31,
     "metadata": {},
     "output_type": "execute_result"
    }
   ],
   "source": [
    "# back of envelope scenario 2\n",
    "3_095_857 * 0.002 * 0.23 "
   ]
  },
  {
   "cell_type": "code",
   "execution_count": 32,
   "id": "ed9e5907",
   "metadata": {},
   "outputs": [
    {
     "data": {
      "text/plain": [
       "'2,411,149'"
      ]
     },
     "execution_count": 32,
     "metadata": {},
     "output_type": "execute_result"
    }
   ],
   "source": [
    "n_households = df.hh_id_2010.nunique()  # number of households\n",
    "f'{n_households:,.0f}'"
   ]
  },
  {
   "cell_type": "code",
   "execution_count": 33,
   "id": "fa0bd1ac",
   "metadata": {},
   "outputs": [
    {
     "data": {
      "text/plain": [
       "'711,975'"
      ]
     },
     "execution_count": 33,
     "metadata": {},
     "output_type": "execute_result"
    }
   ],
   "source": [
    "# number of household that were in same place in 2010 and 2020 census\n",
    "n_stayed = (df.hh_id_2010 == df.hh_id_2020).sum()\n",
    "f'{n_stayed:,.0f}'"
   ]
  },
  {
   "cell_type": "code",
   "execution_count": 34,
   "id": "8e65af6b",
   "metadata": {},
   "outputs": [
    {
     "data": {
      "text/plain": [
       "'3,774'"
      ]
     },
     "execution_count": 34,
     "metadata": {},
     "output_type": "execute_result"
    }
   ],
   "source": [
    "# number of trans kids that were in same place in 2010 and 2020 census\n",
    "\n",
    "n_trans_stayed = (df.trans & (df.hh_id_2010 == df.hh_id_2020)).sum()\n",
    "f'{n_trans_stayed:,.0f}'"
   ]
  },
  {
   "cell_type": "code",
   "execution_count": 35,
   "id": "9710d59b",
   "metadata": {},
   "outputs": [
    {
     "data": {
      "text/plain": [
       "'6,199'"
      ]
     },
     "execution_count": 35,
     "metadata": {},
     "output_type": "execute_result"
    }
   ],
   "source": [
    "# number of trans families identified if full census data with names and dob was released\n",
    "\n",
    "n_hh_w_sex_different = df[df.reported_sex_2010 != df.reported_sex_2020].hh_id_2010.nunique()\n",
    "f'{n_hh_w_sex_different:,.0f}'"
   ]
  },
  {
   "cell_type": "code",
   "execution_count": 36,
   "id": "54592c52",
   "metadata": {},
   "outputs": [
    {
     "data": {
      "text/plain": [
       "'6,200'"
      ]
     },
     "execution_count": 36,
     "metadata": {},
     "output_type": "execute_result"
    }
   ],
   "source": [
    "# number of trans kids identified if full census data with names and dob was released\n",
    "\n",
    "n_kids_w_sex_different = len(df[df.reported_sex_2010 != df.reported_sex_2020])\n",
    "f'{n_kids_w_sex_different:,.0f}'"
   ]
  },
  {
   "cell_type": "code",
   "execution_count": 37,
   "id": "9933111f",
   "metadata": {},
   "outputs": [
    {
     "data": {
      "text/plain": [
       "'16,254'"
      ]
     },
     "execution_count": 37,
     "metadata": {},
     "output_type": "execute_result"
    }
   ],
   "source": [
    "# number of trans kids total\n",
    "\n",
    "n_trans_kids = sum(df.trans)\n",
    "f'{n_trans_kids:,.0f}'"
   ]
  },
  {
   "cell_type": "code",
   "execution_count": 38,
   "id": "21e8de9d",
   "metadata": {},
   "outputs": [
    {
     "data": {
      "text/plain": [
       "38.0"
      ]
     },
     "execution_count": 38,
     "metadata": {},
     "output_type": "execute_result"
    }
   ],
   "source": [
    "np.round(100 * n_kids_w_sex_different/n_trans_kids)"
   ]
  },
  {
   "cell_type": "code",
   "execution_count": 39,
   "id": "594fdcaf",
   "metadata": {},
   "outputs": [
    {
     "data": {
      "text/html": [
       "<div>\n",
       "<style scoped>\n",
       "    .dataframe tbody tr th:only-of-type {\n",
       "        vertical-align: middle;\n",
       "    }\n",
       "\n",
       "    .dataframe tbody tr th {\n",
       "        vertical-align: top;\n",
       "    }\n",
       "\n",
       "    .dataframe thead th {\n",
       "        text-align: right;\n",
       "    }\n",
       "</style>\n",
       "<table border=\"1\" class=\"dataframe\">\n",
       "  <thead>\n",
       "    <tr style=\"text-align: right;\">\n",
       "      <th></th>\n",
       "      <th>state</th>\n",
       "      <th>county</th>\n",
       "      <th>tract</th>\n",
       "      <th>block</th>\n",
       "      <th>sex_id</th>\n",
       "      <th>relationship</th>\n",
       "      <th>hispanic</th>\n",
       "      <th>racaian</th>\n",
       "      <th>racasn</th>\n",
       "      <th>racblk</th>\n",
       "      <th>...</th>\n",
       "      <th>gender</th>\n",
       "      <th>trans</th>\n",
       "      <th>age_2010</th>\n",
       "      <th>age_2020</th>\n",
       "      <th>hh_id_2010</th>\n",
       "      <th>hh_id_2020</th>\n",
       "      <th>geoid_2010</th>\n",
       "      <th>geoid_2020</th>\n",
       "      <th>reported_sex_2010</th>\n",
       "      <th>reported_sex_2020</th>\n",
       "    </tr>\n",
       "  </thead>\n",
       "  <tbody>\n",
       "    <tr>\n",
       "      <th>10</th>\n",
       "      <td>48</td>\n",
       "      <td>441</td>\n",
       "      <td>11600</td>\n",
       "      <td>1000</td>\n",
       "      <td>1</td>\n",
       "      <td>20</td>\n",
       "      <td>0</td>\n",
       "      <td>0</td>\n",
       "      <td>0</td>\n",
       "      <td>0</td>\n",
       "      <td>...</td>\n",
       "      <td>cis_boy</td>\n",
       "      <td>False</td>\n",
       "      <td>4</td>\n",
       "      <td>14</td>\n",
       "      <td>484410116001000-46</td>\n",
       "      <td>484790017113021-44</td>\n",
       "      <td>484410116001000</td>\n",
       "      <td>484790017113021</td>\n",
       "      <td>1.0</td>\n",
       "      <td>1.0</td>\n",
       "    </tr>\n",
       "    <tr>\n",
       "      <th>11</th>\n",
       "      <td>48</td>\n",
       "      <td>441</td>\n",
       "      <td>11600</td>\n",
       "      <td>1000</td>\n",
       "      <td>1</td>\n",
       "      <td>20</td>\n",
       "      <td>0</td>\n",
       "      <td>0</td>\n",
       "      <td>0</td>\n",
       "      <td>0</td>\n",
       "      <td>...</td>\n",
       "      <td>cis_boy</td>\n",
       "      <td>False</td>\n",
       "      <td>0</td>\n",
       "      <td>10</td>\n",
       "      <td>484410116001000-47</td>\n",
       "      <td>482014325011000-289</td>\n",
       "      <td>484410116001000</td>\n",
       "      <td>482014325011000</td>\n",
       "      <td>1.0</td>\n",
       "      <td>1.0</td>\n",
       "    </tr>\n",
       "    <tr>\n",
       "      <th>12</th>\n",
       "      <td>48</td>\n",
       "      <td>441</td>\n",
       "      <td>11600</td>\n",
       "      <td>1000</td>\n",
       "      <td>1</td>\n",
       "      <td>20</td>\n",
       "      <td>0</td>\n",
       "      <td>0</td>\n",
       "      <td>0</td>\n",
       "      <td>0</td>\n",
       "      <td>...</td>\n",
       "      <td>cis_boy</td>\n",
       "      <td>False</td>\n",
       "      <td>0</td>\n",
       "      <td>10</td>\n",
       "      <td>484410116001000-48</td>\n",
       "      <td>484410116001000-48</td>\n",
       "      <td>484410116001000</td>\n",
       "      <td>484410116001000</td>\n",
       "      <td>1.0</td>\n",
       "      <td>1.0</td>\n",
       "    </tr>\n",
       "    <tr>\n",
       "      <th>13</th>\n",
       "      <td>48</td>\n",
       "      <td>441</td>\n",
       "      <td>11600</td>\n",
       "      <td>1000</td>\n",
       "      <td>1</td>\n",
       "      <td>20</td>\n",
       "      <td>0</td>\n",
       "      <td>0</td>\n",
       "      <td>0</td>\n",
       "      <td>0</td>\n",
       "      <td>...</td>\n",
       "      <td>cis_boy</td>\n",
       "      <td>False</td>\n",
       "      <td>4</td>\n",
       "      <td>14</td>\n",
       "      <td>484410116001000-49</td>\n",
       "      <td>483671404152042-232</td>\n",
       "      <td>484410116001000</td>\n",
       "      <td>483671404152042</td>\n",
       "      <td>1.0</td>\n",
       "      <td>1.0</td>\n",
       "    </tr>\n",
       "    <tr>\n",
       "      <th>...</th>\n",
       "      <td>...</td>\n",
       "      <td>...</td>\n",
       "      <td>...</td>\n",
       "      <td>...</td>\n",
       "      <td>...</td>\n",
       "      <td>...</td>\n",
       "      <td>...</td>\n",
       "      <td>...</td>\n",
       "      <td>...</td>\n",
       "      <td>...</td>\n",
       "      <td>...</td>\n",
       "      <td>...</td>\n",
       "      <td>...</td>\n",
       "      <td>...</td>\n",
       "      <td>...</td>\n",
       "      <td>...</td>\n",
       "      <td>...</td>\n",
       "      <td>...</td>\n",
       "      <td>...</td>\n",
       "      <td>...</td>\n",
       "      <td>...</td>\n",
       "    </tr>\n",
       "    <tr>\n",
       "      <th>25145452</th>\n",
       "      <td>48</td>\n",
       "      <td>113</td>\n",
       "      <td>7916</td>\n",
       "      <td>2001</td>\n",
       "      <td>2</td>\n",
       "      <td>25</td>\n",
       "      <td>1</td>\n",
       "      <td>0</td>\n",
       "      <td>0</td>\n",
       "      <td>0</td>\n",
       "      <td>...</td>\n",
       "      <td>cis_girl</td>\n",
       "      <td>False</td>\n",
       "      <td>6</td>\n",
       "      <td>16</td>\n",
       "      <td>481130079162001-756</td>\n",
       "      <td>481130079162001-756</td>\n",
       "      <td>481130079162001</td>\n",
       "      <td>481130079162001</td>\n",
       "      <td>2.0</td>\n",
       "      <td>2.0</td>\n",
       "    </tr>\n",
       "    <tr>\n",
       "      <th>25145492</th>\n",
       "      <td>48</td>\n",
       "      <td>113</td>\n",
       "      <td>7916</td>\n",
       "      <td>2001</td>\n",
       "      <td>1</td>\n",
       "      <td>27</td>\n",
       "      <td>1</td>\n",
       "      <td>0</td>\n",
       "      <td>0</td>\n",
       "      <td>0</td>\n",
       "      <td>...</td>\n",
       "      <td>cis_boy</td>\n",
       "      <td>False</td>\n",
       "      <td>4</td>\n",
       "      <td>14</td>\n",
       "      <td>481130079162001-762</td>\n",
       "      <td>481130136221000-10</td>\n",
       "      <td>481130079162001</td>\n",
       "      <td>481130136221000</td>\n",
       "      <td>1.0</td>\n",
       "      <td>1.0</td>\n",
       "    </tr>\n",
       "    <tr>\n",
       "      <th>25145493</th>\n",
       "      <td>48</td>\n",
       "      <td>113</td>\n",
       "      <td>7916</td>\n",
       "      <td>2001</td>\n",
       "      <td>1</td>\n",
       "      <td>25</td>\n",
       "      <td>1</td>\n",
       "      <td>0</td>\n",
       "      <td>0</td>\n",
       "      <td>0</td>\n",
       "      <td>...</td>\n",
       "      <td>cis_boy</td>\n",
       "      <td>False</td>\n",
       "      <td>3</td>\n",
       "      <td>13</td>\n",
       "      <td>481130079162001-788</td>\n",
       "      <td>481130079162001-788</td>\n",
       "      <td>481130079162001</td>\n",
       "      <td>481130079162001</td>\n",
       "      <td>1.0</td>\n",
       "      <td>1.0</td>\n",
       "    </tr>\n",
       "    <tr>\n",
       "      <th>25145517</th>\n",
       "      <td>48</td>\n",
       "      <td>113</td>\n",
       "      <td>7916</td>\n",
       "      <td>1002</td>\n",
       "      <td>2</td>\n",
       "      <td>30</td>\n",
       "      <td>1</td>\n",
       "      <td>0</td>\n",
       "      <td>0</td>\n",
       "      <td>0</td>\n",
       "      <td>...</td>\n",
       "      <td>cis_girl</td>\n",
       "      <td>False</td>\n",
       "      <td>0</td>\n",
       "      <td>10</td>\n",
       "      <td>481130079161002-784</td>\n",
       "      <td>481450005001010-5</td>\n",
       "      <td>481130079161002</td>\n",
       "      <td>481450005001010</td>\n",
       "      <td>2.0</td>\n",
       "      <td>2.0</td>\n",
       "    </tr>\n",
       "  </tbody>\n",
       "</table>\n",
       "<p>3095857 rows × 24 columns</p>\n",
       "</div>"
      ],
      "text/plain": [
       "          state  county  tract  block  sex_id  relationship  hispanic  \\\n",
       "10           48     441  11600   1000       1            20         0   \n",
       "11           48     441  11600   1000       1            20         0   \n",
       "12           48     441  11600   1000       1            20         0   \n",
       "13           48     441  11600   1000       1            20         0   \n",
       "...         ...     ...    ...    ...     ...           ...       ...   \n",
       "25145452     48     113   7916   2001       2            25         1   \n",
       "25145492     48     113   7916   2001       1            27         1   \n",
       "25145493     48     113   7916   2001       1            25         1   \n",
       "25145517     48     113   7916   1002       2            30         1   \n",
       "\n",
       "          racaian  racasn  racblk  ...    gender  trans  age_2010  age_2020  \\\n",
       "10              0       0       0  ...   cis_boy  False         4        14   \n",
       "11              0       0       0  ...   cis_boy  False         0        10   \n",
       "12              0       0       0  ...   cis_boy  False         0        10   \n",
       "13              0       0       0  ...   cis_boy  False         4        14   \n",
       "...           ...     ...     ...  ...       ...    ...       ...       ...   \n",
       "25145452        0       0       0  ...  cis_girl  False         6        16   \n",
       "25145492        0       0       0  ...   cis_boy  False         4        14   \n",
       "25145493        0       0       0  ...   cis_boy  False         3        13   \n",
       "25145517        0       0       0  ...  cis_girl  False         0        10   \n",
       "\n",
       "                   hh_id_2010           hh_id_2020       geoid_2010  \\\n",
       "10         484410116001000-46   484790017113021-44  484410116001000   \n",
       "11         484410116001000-47  482014325011000-289  484410116001000   \n",
       "12         484410116001000-48   484410116001000-48  484410116001000   \n",
       "13         484410116001000-49  483671404152042-232  484410116001000   \n",
       "...                       ...                  ...              ...   \n",
       "25145452  481130079162001-756  481130079162001-756  481130079162001   \n",
       "25145492  481130079162001-762   481130136221000-10  481130079162001   \n",
       "25145493  481130079162001-788  481130079162001-788  481130079162001   \n",
       "25145517  481130079161002-784    481450005001010-5  481130079161002   \n",
       "\n",
       "               geoid_2020 reported_sex_2010 reported_sex_2020  \n",
       "10        484790017113021               1.0               1.0  \n",
       "11        482014325011000               1.0               1.0  \n",
       "12        484410116001000               1.0               1.0  \n",
       "13        483671404152042               1.0               1.0  \n",
       "...                   ...               ...               ...  \n",
       "25145452  481130079162001               2.0               2.0  \n",
       "25145492  481130136221000               1.0               1.0  \n",
       "25145493  481130079162001               1.0               1.0  \n",
       "25145517  481450005001010               2.0               2.0  \n",
       "\n",
       "[3095857 rows x 24 columns]"
      ]
     },
     "execution_count": 39,
     "metadata": {},
     "output_type": "execute_result"
    }
   ],
   "source": [
    "del df['geoid']\n",
    "df"
   ]
  },
  {
   "cell_type": "code",
   "execution_count": 40,
   "id": "02c75e09",
   "metadata": {},
   "outputs": [
    {
     "data": {
      "text/plain": [
       "geoid_2010       age_2020  hispanic  racwht  racblk  racasn  racaian  racnhpi  racsor\n",
       "482013501032006  10        0         1       0       0       0        0        0          1\n",
       "482199503003001  14        0         1       0       0       0        0        0          1\n",
       "482199503003000  16        0         1       0       0       0        0        0          1\n",
       "                 14        0         1       0       0       0        0        0          1\n",
       "                                                                                         ..\n",
       "481130166352000  15        0         0       1       0       0        0        0         71\n",
       "482012227011007  12        0         0       1       0       0        0        0         75\n",
       "                 11        0         0       1       0       0        0        0         82\n",
       "                 14        0         0       1       0       0        0        0         88\n",
       "Name: k_anon_2010, Length: 1972575, dtype: int64"
      ]
     },
     "execution_count": 40,
     "metadata": {},
     "output_type": "execute_result"
    }
   ],
   "source": [
    "# without reidentification to link on, there is still a risk of identifying a block with a trans kid\n",
    "# by finding blocks where there was a single kids of a given age in 2010 and that age+10 in 2020 and\n",
    "# different reported sex\n",
    "\n",
    "k_anon_2010 = df.groupby(['geoid_2010', 'age_2020', 'hispanic', 'racwht', 'racblk', 'racasn', 'racaian', 'racnhpi', 'racsor']).pweight.sum()\n",
    "k_anon_2010.name = 'k_anon_2010'\n",
    "k_anon_2010.sort_values()"
   ]
  },
  {
   "cell_type": "code",
   "execution_count": 41,
   "id": "fc75e2ad",
   "metadata": {},
   "outputs": [],
   "source": [
    "df = pd.merge(how='left',\n",
    "              left=df, left_on=['geoid_2010', 'age_2020', 'hispanic', 'racwht',\n",
    "                                'racblk', 'racasn', 'racaian', 'racnhpi', 'racsor'],\n",
    "              right=k_anon_2010, right_index=True,)\n",
    "df.k_anon_2010 = df.k_anon_2010.fillna(0)"
   ]
  },
  {
   "cell_type": "code",
   "execution_count": 42,
   "id": "90a71ea8",
   "metadata": {},
   "outputs": [
    {
     "data": {
      "text/plain": [
       "1414929"
      ]
     },
     "execution_count": 42,
     "metadata": {},
     "output_type": "execute_result"
    }
   ],
   "source": [
    "# the rows with k_anon = 1 are putative matches\n",
    "# meaning the individual was unique age/race in 2010\n",
    "n_unique_2010 = sum(df.k_anon_2010 == 1)\n",
    "n_unique_2010"
   ]
  },
  {
   "cell_type": "code",
   "execution_count": 43,
   "id": "d0b08c7d",
   "metadata": {},
   "outputs": [],
   "source": [
    "# some of these putative matches will be unclear, because of in-migration\n",
    "\n",
    "k_anon_2020 = df.groupby(['geoid_2020', 'age_2020', 'hispanic', 'racwht', 'racblk', 'racasn', 'racaian', 'racnhpi', 'racsor']).pweight.sum()\n",
    "k_anon_2020.name = 'k_anon_2020'\n",
    "# k_anon_2020.sort_values()"
   ]
  },
  {
   "cell_type": "code",
   "execution_count": 44,
   "id": "2170d0b4",
   "metadata": {},
   "outputs": [],
   "source": [
    "df = pd.merge(how='left',\n",
    "              left=df, left_on=['geoid_2020', 'age_2020', 'hispanic', 'racwht',\n",
    "                                'racblk', 'racasn', 'racaian', 'racnhpi', 'racsor'],\n",
    "              right=k_anon_2020, right_index=True,)\n",
    "df.k_anon_2020 = df.k_anon_2020.fillna(0)"
   ]
  },
  {
   "cell_type": "code",
   "execution_count": 45,
   "id": "d6137fc8",
   "metadata": {},
   "outputs": [],
   "source": [
    "# df[df.k_anon_2010 == 1].sort_values('k_anon_2020')"
   ]
  },
  {
   "cell_type": "code",
   "execution_count": 46,
   "id": "15e195de",
   "metadata": {},
   "outputs": [
    {
     "data": {
      "text/plain": [
       "968019"
      ]
     },
     "execution_count": 46,
     "metadata": {},
     "output_type": "execute_result"
    }
   ],
   "source": [
    "# the rows with k_anon_2010 an d_2020 = 1 are putative that are unique on both sides\n",
    "len(df[(df.k_anon_2010 == 1) & (df.k_anon_2020 == 1)])"
   ]
  },
  {
   "cell_type": "code",
   "execution_count": 47,
   "id": "53e3c2d3",
   "metadata": {},
   "outputs": [
    {
     "data": {
      "text/plain": [
       "268492"
      ]
     },
     "execution_count": 47,
     "metadata": {},
     "output_type": "execute_result"
    }
   ],
   "source": [
    "# these putative matches that have the same geoid in 2010 and 2020 are confirmed matches\n",
    "len(df[(df.k_anon_2010 == 1) & (df.k_anon_2020 == 1)\n",
    "       & (df.geoid_2010 == df.geoid_2020)])"
   ]
  },
  {
   "cell_type": "code",
   "execution_count": 48,
   "id": "561f9187",
   "metadata": {},
   "outputs": [
    {
     "data": {
      "text/plain": [
       "18.975651781820854"
      ]
     },
     "execution_count": 48,
     "metadata": {},
     "output_type": "execute_result"
    }
   ],
   "source": [
    "100 * (len(df[(df.k_anon_2010 == 1) & (df.k_anon_2020 == 1)\n",
    "       & (df.geoid_2010 == df.geoid_2020)]) / \n",
    "n_unique_2010)"
   ]
  },
  {
   "cell_type": "code",
   "execution_count": 49,
   "id": "b1bb83d9",
   "metadata": {},
   "outputs": [
    {
     "data": {
      "text/plain": [
       "1885"
      ]
     },
     "execution_count": 49,
     "metadata": {},
     "output_type": "execute_result"
    }
   ],
   "source": [
    "# if some bad actor used this to identify trans kids\n",
    "# they would find this many putative links\n",
    "len(df[(df.k_anon_2010 == 1) & (df.k_anon_2020 == 1)\n",
    "       & (df.reported_sex_2010 != df.reported_sex_2020)\n",
    "      ])"
   ]
  },
  {
   "cell_type": "code",
   "execution_count": 50,
   "id": "3c6eeb6b",
   "metadata": {},
   "outputs": [
    {
     "data": {
      "text/plain": [
       "526"
      ]
     },
     "execution_count": 50,
     "metadata": {},
     "output_type": "execute_result"
    }
   ],
   "source": [
    "# but only this many would be the same person\n",
    "len(df[(df.k_anon_2010 == 1) & (df.k_anon_2020 == 1)\n",
    "       & (df.geoid_2010 == df.geoid_2020)\n",
    "       & (df.reported_sex_2010 != df.reported_sex_2020)\n",
    "      ])"
   ]
  },
  {
   "cell_type": "code",
   "execution_count": 51,
   "id": "4b008e81",
   "metadata": {},
   "outputs": [],
   "source": [
    "n_scenario_2 = sum(\n",
    "    (df.k_anon_2010 == 1) & (df.k_anon_2020 == 1)\n",
    "       & (df.geoid_2010 == df.geoid_2020)\n",
    "       & (df.reported_sex_2010 != df.reported_sex_2020)\n",
    "    )\n"
   ]
  },
  {
   "cell_type": "code",
   "execution_count": 52,
   "id": "c22ea0d0",
   "metadata": {},
   "outputs": [
    {
     "data": {
      "text/plain": [
       "526"
      ]
     },
     "execution_count": 52,
     "metadata": {},
     "output_type": "execute_result"
    }
   ],
   "source": [
    "n_scenario_2"
   ]
  },
  {
   "cell_type": "markdown",
   "id": "22b534dc",
   "metadata": {},
   "source": [
    "# next a version with household swapping to protect against disclosure\n",
    "# I hypothesize that it is going to be just 10% lower"
   ]
  },
  {
   "cell_type": "code",
   "execution_count": 53,
   "id": "04f230f7",
   "metadata": {},
   "outputs": [],
   "source": [
    "p_swap = 0.05"
   ]
  },
  {
   "cell_type": "code",
   "execution_count": 54,
   "id": "b731d81c",
   "metadata": {},
   "outputs": [],
   "source": [
    "locations_2010 = df.hh_id_2010.unique()\n",
    "\n",
    "random_location = np.random.choice(all_locations, size=len(locations_2010),  # induces distribution on geoid that is proportional to number of households\n",
    "                                   replace=True)\n",
    "\n",
    "reported_locations_2010 = np.where(np.random.uniform(size=len(locations_2010)) < p_swap,\n",
    "                                   random_location,\n",
    "                                   locations_2010,\n",
    "                                  )\n",
    "\n",
    "s_reported_location_2010 = pd.Series(reported_locations_2010,\n",
    "                                     index=locations_2010)\n",
    "\n",
    "df['reported_hh_id_2010'] = df.hh_id_2010.map(s_reported_location_2010)"
   ]
  },
  {
   "cell_type": "code",
   "execution_count": 55,
   "id": "5227060d",
   "metadata": {},
   "outputs": [],
   "source": [
    "locations_2020 = df.hh_id_2020.unique()\n",
    "\n",
    "random_location = np.random.choice(all_locations, size=len(locations_2020),\n",
    "                                   replace=True)\n",
    "\n",
    "reported_locations_2020 = np.where(np.random.uniform(size=len(locations_2020)) < p_swap,\n",
    "                                   random_location,\n",
    "                                   locations_2020,\n",
    "                                  )\n",
    "\n",
    "s_reported_location_2020 = pd.Series(reported_locations_2020,\n",
    "                                     index=locations_2020)\n",
    "\n",
    "df['reported_hh_id_2020'] = df.hh_id_2020.map(s_reported_location_2020)"
   ]
  },
  {
   "cell_type": "code",
   "execution_count": 56,
   "id": "082afad7",
   "metadata": {},
   "outputs": [],
   "source": [
    "# number of trans families identified by age, geoid from reconstruction without noise\n",
    "\n",
    "df['reported_geoid_2010'] = df.reported_hh_id_2010.map(lambda x: int(x.split('-')[0]))\n",
    "df['reported_geoid_2020'] = df.reported_hh_id_2020.map(lambda x: int(x.split('-')[0]))"
   ]
  },
  {
   "cell_type": "code",
   "execution_count": 57,
   "id": "8bed07a7",
   "metadata": {},
   "outputs": [
    {
     "data": {
      "text/plain": [
       "reported_geoid_2010  age_2020  hispanic  racwht  racblk  racasn  racaian  racnhpi  racsor\n",
       "480019501001000      11        1         1       0       0       0        0        0          1\n",
       "482419503001005      13        0         0       1       0       0        0        0          1\n",
       "                     12        0         1       1       0       0        0        0          1\n",
       "                                                 0       0       0        0        0          1\n",
       "                                                                                             ..\n",
       "481130166352000      15        0         0       1       0       0        0        0         67\n",
       "482012227011007      12        0         0       1       0       0        0        0         70\n",
       "                     11        0         0       1       0       0        0        0         73\n",
       "                     14        0         0       1       0       0        0        0         81\n",
       "Name: k_anon_2010, Length: 2006647, dtype: int64"
      ]
     },
     "execution_count": 57,
     "metadata": {},
     "output_type": "execute_result"
    }
   ],
   "source": [
    "# without reidentification to link on, there is still a risk of identifying a block with a trans kid\n",
    "# by finding blocks where there was a single kids of a given age in 2010 and that age+10 in 2020 and\n",
    "# different reported sex\n",
    "\n",
    "k_anon_2010 = df.groupby(['reported_geoid_2010', 'age_2020', 'hispanic', 'racwht', 'racblk', 'racasn', 'racaian', 'racnhpi', 'racsor']).pweight.sum()\n",
    "k_anon_2010.name = 'k_anon_2010'\n",
    "k_anon_2010.sort_values()"
   ]
  },
  {
   "cell_type": "code",
   "execution_count": 58,
   "id": "ed8f8529",
   "metadata": {},
   "outputs": [
    {
     "data": {
      "text/plain": [
       "reported_geoid_2020  age_2020  hispanic  racwht  racblk  racasn  racaian  racnhpi  racsor\n",
       "480019501001000      15        1         1       0       0       0        0        0          1\n",
       "483550025001002      13        1         0       0       0       0        0        1          1\n",
       "                     10        0         1       0       0       0        0        0          1\n",
       "483550025001001      17        0         0       1       0       0        0        0          1\n",
       "                                                                                             ..\n",
       "481130100021010      11        1         1       0       0       0        0        0         49\n",
       "480410021003029      15        0         1       0       0       0        0        0         50\n",
       "481130100021010      13        1         1       0       0       0        0        0         57\n",
       "                     16        1         1       0       0       0        0        0         60\n",
       "Name: k_anon_2020, Length: 2266500, dtype: int64"
      ]
     },
     "execution_count": 58,
     "metadata": {},
     "output_type": "execute_result"
    }
   ],
   "source": [
    "# some of these putative matches will be unclear, because of in-migration\n",
    "\n",
    "k_anon_2020 = df.groupby(['reported_geoid_2020', 'age_2020', 'hispanic', 'racwht', 'racblk', 'racasn', 'racaian', 'racnhpi', 'racsor']).pweight.sum()\n",
    "k_anon_2020.name = 'k_anon_2020'\n",
    "k_anon_2020.sort_values()"
   ]
  },
  {
   "cell_type": "code",
   "execution_count": 59,
   "id": "8fb44b27",
   "metadata": {},
   "outputs": [],
   "source": [
    "del df['k_anon_2010']\n",
    "\n",
    "df = pd.merge(how='left',\n",
    "              left=df, left_on=['geoid_2010', 'age_2020', 'hispanic', 'racwht',\n",
    "                                'racblk', 'racasn', 'racaian', 'racnhpi', 'racsor'],\n",
    "              right=k_anon_2010, right_index=True,)\n",
    "df.k_anon_2010 = df.k_anon_2010.fillna(0)"
   ]
  },
  {
   "cell_type": "code",
   "execution_count": 60,
   "id": "0712a46e",
   "metadata": {},
   "outputs": [],
   "source": [
    "del df['k_anon_2020']\n",
    "\n",
    "df = pd.merge(how='left',\n",
    "              left=df, left_on=['geoid_2020', 'age_2020', 'hispanic', 'racwht',\n",
    "                                'racblk', 'racasn', 'racaian', 'racnhpi', 'racsor'],\n",
    "              right=k_anon_2020, right_index=True,)\n",
    "df.k_anon_2020 = df.k_anon_2020.fillna(0)"
   ]
  },
  {
   "cell_type": "code",
   "execution_count": 61,
   "id": "e3503c76",
   "metadata": {},
   "outputs": [
    {
     "data": {
      "text/plain": [
       "906895"
      ]
     },
     "execution_count": 61,
     "metadata": {},
     "output_type": "execute_result"
    }
   ],
   "source": [
    "# the rows with k_anon_2010 an d_2020 = 1 are putative that are unique on both sides\n",
    "len(df[(df.k_anon_2010 == 1) & (df.k_anon_2020 == 1)])"
   ]
  },
  {
   "cell_type": "code",
   "execution_count": 62,
   "id": "4b4d3544",
   "metadata": {},
   "outputs": [
    {
     "data": {
      "text/plain": [
       "243338"
      ]
     },
     "execution_count": 62,
     "metadata": {},
     "output_type": "execute_result"
    }
   ],
   "source": [
    "# these putative matches that have the same geoid in 2010 and 2020 are confirmed matches\n",
    "len(df[(df.k_anon_2010 == 1) & (df.k_anon_2020 == 1)\n",
    "       & (df.geoid_2010 == df.geoid_2020) \n",
    "       & (df.geoid_2010 == df.reported_geoid_2010)\n",
    "       & (df.geoid_2020 == df.reported_geoid_2020)\n",
    "      ])"
   ]
  },
  {
   "cell_type": "code",
   "execution_count": 63,
   "id": "d5036947",
   "metadata": {},
   "outputs": [
    {
     "data": {
      "text/plain": [
       "479"
      ]
     },
     "execution_count": 63,
     "metadata": {},
     "output_type": "execute_result"
    }
   ],
   "source": [
    "len(df[(df.k_anon_2010 == 1) & (df.k_anon_2020 == 1)\n",
    "       & (df.geoid_2010 == df.geoid_2020)\n",
    "       & (df.reported_sex_2010 != df.reported_sex_2020)\n",
    "      ])"
   ]
  },
  {
   "cell_type": "code",
   "execution_count": 64,
   "id": "3df834cb",
   "metadata": {},
   "outputs": [
    {
     "data": {
      "text/plain": [
       "461"
      ]
     },
     "execution_count": 64,
     "metadata": {},
     "output_type": "execute_result"
    }
   ],
   "source": [
    "len(df[(df.k_anon_2010 == 1) & (df.k_anon_2020 == 1)\n",
    "       & (df.geoid_2010 == df.geoid_2020)\n",
    "       & (df.geoid_2010 == df.reported_geoid_2010)\n",
    "       & (df.geoid_2020 == df.reported_geoid_2020)\n",
    "       & (df.reported_sex_2010 != df.reported_sex_2020)\n",
    "      ])"
   ]
  },
  {
   "cell_type": "code",
   "execution_count": 65,
   "id": "3d72f7dd",
   "metadata": {},
   "outputs": [
    {
     "data": {
      "text/plain": [
       "(526, 461)"
      ]
     },
     "execution_count": 65,
     "metadata": {},
     "output_type": "execute_result"
    }
   ],
   "source": [
    "n_scenario_3 = sum(\n",
    "    (df.k_anon_2010 == 1) & (df.k_anon_2020 == 1)\n",
    "       & (df.geoid_2010 == df.geoid_2020)\n",
    "       & (df.geoid_2010 == df.reported_geoid_2010)\n",
    "       & (df.geoid_2020 == df.reported_geoid_2020)\n",
    "       & (df.reported_sex_2010 != df.reported_sex_2020)\n",
    "    )\n",
    "n_scenario_2, n_scenario_3"
   ]
  },
  {
   "cell_type": "code",
   "execution_count": 66,
   "id": "68f9b08b",
   "metadata": {},
   "outputs": [
    {
     "data": {
      "text/plain": [
       "12.357414448669202"
      ]
     },
     "execution_count": 66,
     "metadata": {},
     "output_type": "execute_result"
    }
   ],
   "source": [
    "100 * (1 - n_scenario_3/n_scenario_2)"
   ]
  },
  {
   "cell_type": "code",
   "execution_count": 67,
   "id": "f32b3931",
   "metadata": {},
   "outputs": [
    {
     "data": {
      "text/plain": [
       "0.8840304182509505"
      ]
     },
     "execution_count": 67,
     "metadata": {},
     "output_type": "execute_result"
    }
   ],
   "source": [
    "1 - 61/n_scenario_2  # n_scenario_4 = 61, see next notebook"
   ]
  },
  {
   "cell_type": "code",
   "execution_count": null,
   "id": "073720a6",
   "metadata": {},
   "outputs": [],
   "source": []
  }
 ],
 "metadata": {
  "kernelspec": {
   "display_name": "pyomo_env",
   "language": "python",
   "name": "pyomo_env"
  },
  "language_info": {
   "codemirror_mode": {
    "name": "ipython",
    "version": 3
   },
   "file_extension": ".py",
   "mimetype": "text/x-python",
   "name": "python",
   "nbconvert_exporter": "python",
   "pygments_lexer": "ipython3",
   "version": "3.10.4"
  }
 },
 "nbformat": 4,
 "nbformat_minor": 5
}
